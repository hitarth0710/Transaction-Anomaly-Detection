{
 "cells": [
  {
   "cell_type": "code",
   "execution_count": 2,
   "id": "dfd866bb-a842-41a9-9d61-6f426a2a6060",
   "metadata": {},
   "outputs": [
    {
     "name": "stdout",
     "output_type": "stream",
     "text": [
      "  Transaction_ID  Transaction_Amount  Transaction_Volume  \\\n",
      "0            TX0         1024.835708                   3   \n",
      "1            TX1         1013.952065                   4   \n",
      "2            TX2          970.956093                   1   \n",
      "3            TX3         1040.822254                   2   \n",
      "4            TX4          998.777241                   1   \n",
      "\n",
      "   Average_Transaction_Amount  Frequency_of_Transactions  \\\n",
      "0                  997.234714                         12   \n",
      "1                 1020.210306                          7   \n",
      "2                  989.496604                          5   \n",
      "3                  969.522480                         16   \n",
      "4                 1007.111026                          7   \n",
      "\n",
      "   Time_Since_Last_Transaction Day_of_Week Time_of_Day  Age  Gender   Income  \\\n",
      "0                           29      Friday       06:00   36    Male  1436074   \n",
      "1                           22      Friday       01:00   41  Female   627069   \n",
      "2                           12     Tuesday       21:00   61    Male   786232   \n",
      "3                           28      Sunday       14:00   61    Male   619030   \n",
      "4                            7      Friday       08:00   56  Female   649457   \n",
      "\n",
      "  Account_Type  \n",
      "0      Savings  \n",
      "1      Savings  \n",
      "2      Savings  \n",
      "3      Savings  \n",
      "4      Savings  \n"
     ]
    }
   ],
   "source": [
    "import pandas as pd\n",
    "import plotly.express as px\n",
    "from sklearn.model_selection import train_test_split\n",
    "from sklearn.ensemble import IsolationForest\n",
    "from sklearn.metrics import classification_report\n",
    "\n",
    "data = pd.read_csv(\"C:/tmp/Ml_Project/dataset/transaction_anomalies_dataset.csv\")\n",
    "print(data.head())"
   ]
  },
  {
   "cell_type": "code",
   "execution_count": 3,
   "id": "05641723-c336-4b8d-8d71-7a2bc4187c26",
   "metadata": {},
   "outputs": [
    {
     "name": "stdout",
     "output_type": "stream",
     "text": [
      "Transaction_ID                 0\n",
      "Transaction_Amount             0\n",
      "Transaction_Volume             0\n",
      "Average_Transaction_Amount     0\n",
      "Frequency_of_Transactions      0\n",
      "Time_Since_Last_Transaction    0\n",
      "Day_of_Week                    0\n",
      "Time_of_Day                    0\n",
      "Age                            0\n",
      "Gender                         0\n",
      "Income                         0\n",
      "Account_Type                   0\n",
      "dtype: int64\n"
     ]
    }
   ],
   "source": [
    "print(data.isnull().sum())"
   ]
  },
  {
   "cell_type": "code",
   "execution_count": 4,
   "id": "870fe5b4-875a-4c5a-8e89-2f4f05a132ff",
   "metadata": {},
   "outputs": [
    {
     "name": "stdout",
     "output_type": "stream",
     "text": [
      "<class 'pandas.core.frame.DataFrame'>\n",
      "RangeIndex: 1000 entries, 0 to 999\n",
      "Data columns (total 12 columns):\n",
      " #   Column                       Non-Null Count  Dtype  \n",
      "---  ------                       --------------  -----  \n",
      " 0   Transaction_ID               1000 non-null   object \n",
      " 1   Transaction_Amount           1000 non-null   float64\n",
      " 2   Transaction_Volume           1000 non-null   int64  \n",
      " 3   Average_Transaction_Amount   1000 non-null   float64\n",
      " 4   Frequency_of_Transactions    1000 non-null   int64  \n",
      " 5   Time_Since_Last_Transaction  1000 non-null   int64  \n",
      " 6   Day_of_Week                  1000 non-null   object \n",
      " 7   Time_of_Day                  1000 non-null   object \n",
      " 8   Age                          1000 non-null   int64  \n",
      " 9   Gender                       1000 non-null   object \n",
      " 10  Income                       1000 non-null   int64  \n",
      " 11  Account_Type                 1000 non-null   object \n",
      "dtypes: float64(2), int64(5), object(5)\n",
      "memory usage: 93.9+ KB\n",
      "None\n"
     ]
    }
   ],
   "source": [
    "print(data.info())"
   ]
  },
  {
   "cell_type": "code",
   "execution_count": 5,
   "id": "71271f9a-b34b-4d1a-84d0-fe40a6066eb9",
   "metadata": {},
   "outputs": [
    {
     "name": "stdout",
     "output_type": "stream",
     "text": [
      "       Transaction_Amount  Transaction_Volume  Average_Transaction_Amount  \\\n",
      "count         1000.000000         1000.000000                 1000.000000   \n",
      "mean          1038.122511            2.498000                 1000.682506   \n",
      "std            283.580055            1.115006                   20.632334   \n",
      "min            849.024392            1.000000                  939.081423   \n",
      "25%            966.028796            1.000000                  986.800556   \n",
      "50%           1002.118678            3.000000                 1000.501902   \n",
      "75%           1033.143657            3.000000                 1015.155595   \n",
      "max           3227.459108            4.000000                 1073.154036   \n",
      "\n",
      "       Frequency_of_Transactions  Time_Since_Last_Transaction          Age  \\\n",
      "count                1000.000000                  1000.000000  1000.000000   \n",
      "mean                   12.078000                    15.341000    40.641000   \n",
      "std                     4.245225                     8.361258    13.819953   \n",
      "min                     5.000000                     1.000000    18.000000   \n",
      "25%                     8.000000                     8.000000    29.000000   \n",
      "50%                    12.000000                    16.000000    41.000000   \n",
      "75%                    16.000000                    22.000000    53.000000   \n",
      "max                    19.000000                    29.000000    64.000000   \n",
      "\n",
      "             Income  \n",
      "count  1.000000e+03  \n",
      "mean   8.948238e+05  \n",
      "std    3.453562e+05  \n",
      "min    3.001590e+05  \n",
      "25%    5.917308e+05  \n",
      "50%    8.876645e+05  \n",
      "75%    1.178102e+06  \n",
      "max    1.499670e+06  \n"
     ]
    }
   ],
   "source": [
    "print(data.describe())"
   ]
  },
  {
   "cell_type": "code",
   "execution_count": 6,
   "id": "788eff3a-b09f-48eb-8d51-e5c59879dbf4",
   "metadata": {},
   "outputs": [],
   "source": [
    "# Distribution of Transaction Amount\n",
    "fig_amount = px.histogram(data, x='Transaction_Amount',\n",
    "                          nbins=20,\n",
    "                          title='Distribution of Transaction Amount')\n"
   ]
  },
  {
   "cell_type": "code",
   "execution_count": 7,
   "id": "c1f4f107-9200-41c5-a9d2-af73097585c6",
   "metadata": {},
   "outputs": [
    {
     "data": {
      "application/vnd.plotly.v1+json": {
       "config": {
        "plotlyServerURL": "https://plot.ly"
       },
       "data": [
        {
         "bingroup": "x",
         "hovertemplate": "Transaction_Amount=%{x}<br>count=%{y}<extra></extra>",
         "legendgroup": "",
         "marker": {
          "color": "#636efa",
          "pattern": {
           "shape": ""
          }
         },
         "name": "",
         "nbinsx": 20,
         "orientation": "v",
         "showlegend": false,
         "type": "histogram",
         "x": {
          "bdata": "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",
          "dtype": "f8"
         },
         "xaxis": "x",
         "yaxis": "y"
        }
       ],
       "layout": {
        "barmode": "relative",
        "legend": {
         "tracegroupgap": 0
        },
        "template": {
         "data": {
          "bar": [
           {
            "error_x": {
             "color": "#2a3f5f"
            },
            "error_y": {
             "color": "#2a3f5f"
            },
            "marker": {
             "line": {
              "color": "#E5ECF6",
              "width": 0.5
             },
             "pattern": {
              "fillmode": "overlay",
              "size": 10,
              "solidity": 0.2
             }
            },
            "type": "bar"
           }
          ],
          "barpolar": [
           {
            "marker": {
             "line": {
              "color": "#E5ECF6",
              "width": 0.5
             },
             "pattern": {
              "fillmode": "overlay",
              "size": 10,
              "solidity": 0.2
             }
            },
            "type": "barpolar"
           }
          ],
          "carpet": [
           {
            "aaxis": {
             "endlinecolor": "#2a3f5f",
             "gridcolor": "white",
             "linecolor": "white",
             "minorgridcolor": "white",
             "startlinecolor": "#2a3f5f"
            },
            "baxis": {
             "endlinecolor": "#2a3f5f",
             "gridcolor": "white",
             "linecolor": "white",
             "minorgridcolor": "white",
             "startlinecolor": "#2a3f5f"
            },
            "type": "carpet"
           }
          ],
          "choropleth": [
           {
            "colorbar": {
             "outlinewidth": 0,
             "ticks": ""
            },
            "type": "choropleth"
           }
          ],
          "contour": [
           {
            "colorbar": {
             "outlinewidth": 0,
             "ticks": ""
            },
            "colorscale": [
             [
              0,
              "#0d0887"
             ],
             [
              0.1111111111111111,
              "#46039f"
             ],
             [
              0.2222222222222222,
              "#7201a8"
             ],
             [
              0.3333333333333333,
              "#9c179e"
             ],
             [
              0.4444444444444444,
              "#bd3786"
             ],
             [
              0.5555555555555556,
              "#d8576b"
             ],
             [
              0.6666666666666666,
              "#ed7953"
             ],
             [
              0.7777777777777778,
              "#fb9f3a"
             ],
             [
              0.8888888888888888,
              "#fdca26"
             ],
             [
              1,
              "#f0f921"
             ]
            ],
            "type": "contour"
           }
          ],
          "contourcarpet": [
           {
            "colorbar": {
             "outlinewidth": 0,
             "ticks": ""
            },
            "type": "contourcarpet"
           }
          ],
          "heatmap": [
           {
            "colorbar": {
             "outlinewidth": 0,
             "ticks": ""
            },
            "colorscale": [
             [
              0,
              "#0d0887"
             ],
             [
              0.1111111111111111,
              "#46039f"
             ],
             [
              0.2222222222222222,
              "#7201a8"
             ],
             [
              0.3333333333333333,
              "#9c179e"
             ],
             [
              0.4444444444444444,
              "#bd3786"
             ],
             [
              0.5555555555555556,
              "#d8576b"
             ],
             [
              0.6666666666666666,
              "#ed7953"
             ],
             [
              0.7777777777777778,
              "#fb9f3a"
             ],
             [
              0.8888888888888888,
              "#fdca26"
             ],
             [
              1,
              "#f0f921"
             ]
            ],
            "type": "heatmap"
           }
          ],
          "histogram": [
           {
            "marker": {
             "pattern": {
              "fillmode": "overlay",
              "size": 10,
              "solidity": 0.2
             }
            },
            "type": "histogram"
           }
          ],
          "histogram2d": [
           {
            "colorbar": {
             "outlinewidth": 0,
             "ticks": ""
            },
            "colorscale": [
             [
              0,
              "#0d0887"
             ],
             [
              0.1111111111111111,
              "#46039f"
             ],
             [
              0.2222222222222222,
              "#7201a8"
             ],
             [
              0.3333333333333333,
              "#9c179e"
             ],
             [
              0.4444444444444444,
              "#bd3786"
             ],
             [
              0.5555555555555556,
              "#d8576b"
             ],
             [
              0.6666666666666666,
              "#ed7953"
             ],
             [
              0.7777777777777778,
              "#fb9f3a"
             ],
             [
              0.8888888888888888,
              "#fdca26"
             ],
             [
              1,
              "#f0f921"
             ]
            ],
            "type": "histogram2d"
           }
          ],
          "histogram2dcontour": [
           {
            "colorbar": {
             "outlinewidth": 0,
             "ticks": ""
            },
            "colorscale": [
             [
              0,
              "#0d0887"
             ],
             [
              0.1111111111111111,
              "#46039f"
             ],
             [
              0.2222222222222222,
              "#7201a8"
             ],
             [
              0.3333333333333333,
              "#9c179e"
             ],
             [
              0.4444444444444444,
              "#bd3786"
             ],
             [
              0.5555555555555556,
              "#d8576b"
             ],
             [
              0.6666666666666666,
              "#ed7953"
             ],
             [
              0.7777777777777778,
              "#fb9f3a"
             ],
             [
              0.8888888888888888,
              "#fdca26"
             ],
             [
              1,
              "#f0f921"
             ]
            ],
            "type": "histogram2dcontour"
           }
          ],
          "mesh3d": [
           {
            "colorbar": {
             "outlinewidth": 0,
             "ticks": ""
            },
            "type": "mesh3d"
           }
          ],
          "parcoords": [
           {
            "line": {
             "colorbar": {
              "outlinewidth": 0,
              "ticks": ""
             }
            },
            "type": "parcoords"
           }
          ],
          "pie": [
           {
            "automargin": true,
            "type": "pie"
           }
          ],
          "scatter": [
           {
            "fillpattern": {
             "fillmode": "overlay",
             "size": 10,
             "solidity": 0.2
            },
            "type": "scatter"
           }
          ],
          "scatter3d": [
           {
            "line": {
             "colorbar": {
              "outlinewidth": 0,
              "ticks": ""
             }
            },
            "marker": {
             "colorbar": {
              "outlinewidth": 0,
              "ticks": ""
             }
            },
            "type": "scatter3d"
           }
          ],
          "scattercarpet": [
           {
            "marker": {
             "colorbar": {
              "outlinewidth": 0,
              "ticks": ""
             }
            },
            "type": "scattercarpet"
           }
          ],
          "scattergeo": [
           {
            "marker": {
             "colorbar": {
              "outlinewidth": 0,
              "ticks": ""
             }
            },
            "type": "scattergeo"
           }
          ],
          "scattergl": [
           {
            "marker": {
             "colorbar": {
              "outlinewidth": 0,
              "ticks": ""
             }
            },
            "type": "scattergl"
           }
          ],
          "scattermap": [
           {
            "marker": {
             "colorbar": {
              "outlinewidth": 0,
              "ticks": ""
             }
            },
            "type": "scattermap"
           }
          ],
          "scattermapbox": [
           {
            "marker": {
             "colorbar": {
              "outlinewidth": 0,
              "ticks": ""
             }
            },
            "type": "scattermapbox"
           }
          ],
          "scatterpolar": [
           {
            "marker": {
             "colorbar": {
              "outlinewidth": 0,
              "ticks": ""
             }
            },
            "type": "scatterpolar"
           }
          ],
          "scatterpolargl": [
           {
            "marker": {
             "colorbar": {
              "outlinewidth": 0,
              "ticks": ""
             }
            },
            "type": "scatterpolargl"
           }
          ],
          "scatterternary": [
           {
            "marker": {
             "colorbar": {
              "outlinewidth": 0,
              "ticks": ""
             }
            },
            "type": "scatterternary"
           }
          ],
          "surface": [
           {
            "colorbar": {
             "outlinewidth": 0,
             "ticks": ""
            },
            "colorscale": [
             [
              0,
              "#0d0887"
             ],
             [
              0.1111111111111111,
              "#46039f"
             ],
             [
              0.2222222222222222,
              "#7201a8"
             ],
             [
              0.3333333333333333,
              "#9c179e"
             ],
             [
              0.4444444444444444,
              "#bd3786"
             ],
             [
              0.5555555555555556,
              "#d8576b"
             ],
             [
              0.6666666666666666,
              "#ed7953"
             ],
             [
              0.7777777777777778,
              "#fb9f3a"
             ],
             [
              0.8888888888888888,
              "#fdca26"
             ],
             [
              1,
              "#f0f921"
             ]
            ],
            "type": "surface"
           }
          ],
          "table": [
           {
            "cells": {
             "fill": {
              "color": "#EBF0F8"
             },
             "line": {
              "color": "white"
             }
            },
            "header": {
             "fill": {
              "color": "#C8D4E3"
             },
             "line": {
              "color": "white"
             }
            },
            "type": "table"
           }
          ]
         },
         "layout": {
          "annotationdefaults": {
           "arrowcolor": "#2a3f5f",
           "arrowhead": 0,
           "arrowwidth": 1
          },
          "autotypenumbers": "strict",
          "coloraxis": {
           "colorbar": {
            "outlinewidth": 0,
            "ticks": ""
           }
          },
          "colorscale": {
           "diverging": [
            [
             0,
             "#8e0152"
            ],
            [
             0.1,
             "#c51b7d"
            ],
            [
             0.2,
             "#de77ae"
            ],
            [
             0.3,
             "#f1b6da"
            ],
            [
             0.4,
             "#fde0ef"
            ],
            [
             0.5,
             "#f7f7f7"
            ],
            [
             0.6,
             "#e6f5d0"
            ],
            [
             0.7,
             "#b8e186"
            ],
            [
             0.8,
             "#7fbc41"
            ],
            [
             0.9,
             "#4d9221"
            ],
            [
             1,
             "#276419"
            ]
           ],
           "sequential": [
            [
             0,
             "#0d0887"
            ],
            [
             0.1111111111111111,
             "#46039f"
            ],
            [
             0.2222222222222222,
             "#7201a8"
            ],
            [
             0.3333333333333333,
             "#9c179e"
            ],
            [
             0.4444444444444444,
             "#bd3786"
            ],
            [
             0.5555555555555556,
             "#d8576b"
            ],
            [
             0.6666666666666666,
             "#ed7953"
            ],
            [
             0.7777777777777778,
             "#fb9f3a"
            ],
            [
             0.8888888888888888,
             "#fdca26"
            ],
            [
             1,
             "#f0f921"
            ]
           ],
           "sequentialminus": [
            [
             0,
             "#0d0887"
            ],
            [
             0.1111111111111111,
             "#46039f"
            ],
            [
             0.2222222222222222,
             "#7201a8"
            ],
            [
             0.3333333333333333,
             "#9c179e"
            ],
            [
             0.4444444444444444,
             "#bd3786"
            ],
            [
             0.5555555555555556,
             "#d8576b"
            ],
            [
             0.6666666666666666,
             "#ed7953"
            ],
            [
             0.7777777777777778,
             "#fb9f3a"
            ],
            [
             0.8888888888888888,
             "#fdca26"
            ],
            [
             1,
             "#f0f921"
            ]
           ]
          },
          "colorway": [
           "#636efa",
           "#EF553B",
           "#00cc96",
           "#ab63fa",
           "#FFA15A",
           "#19d3f3",
           "#FF6692",
           "#B6E880",
           "#FF97FF",
           "#FECB52"
          ],
          "font": {
           "color": "#2a3f5f"
          },
          "geo": {
           "bgcolor": "white",
           "lakecolor": "white",
           "landcolor": "#E5ECF6",
           "showlakes": true,
           "showland": true,
           "subunitcolor": "white"
          },
          "hoverlabel": {
           "align": "left"
          },
          "hovermode": "closest",
          "mapbox": {
           "style": "light"
          },
          "paper_bgcolor": "white",
          "plot_bgcolor": "#E5ECF6",
          "polar": {
           "angularaxis": {
            "gridcolor": "white",
            "linecolor": "white",
            "ticks": ""
           },
           "bgcolor": "#E5ECF6",
           "radialaxis": {
            "gridcolor": "white",
            "linecolor": "white",
            "ticks": ""
           }
          },
          "scene": {
           "xaxis": {
            "backgroundcolor": "#E5ECF6",
            "gridcolor": "white",
            "gridwidth": 2,
            "linecolor": "white",
            "showbackground": true,
            "ticks": "",
            "zerolinecolor": "white"
           },
           "yaxis": {
            "backgroundcolor": "#E5ECF6",
            "gridcolor": "white",
            "gridwidth": 2,
            "linecolor": "white",
            "showbackground": true,
            "ticks": "",
            "zerolinecolor": "white"
           },
           "zaxis": {
            "backgroundcolor": "#E5ECF6",
            "gridcolor": "white",
            "gridwidth": 2,
            "linecolor": "white",
            "showbackground": true,
            "ticks": "",
            "zerolinecolor": "white"
           }
          },
          "shapedefaults": {
           "line": {
            "color": "#2a3f5f"
           }
          },
          "ternary": {
           "aaxis": {
            "gridcolor": "white",
            "linecolor": "white",
            "ticks": ""
           },
           "baxis": {
            "gridcolor": "white",
            "linecolor": "white",
            "ticks": ""
           },
           "bgcolor": "#E5ECF6",
           "caxis": {
            "gridcolor": "white",
            "linecolor": "white",
            "ticks": ""
           }
          },
          "title": {
           "x": 0.05
          },
          "xaxis": {
           "automargin": true,
           "gridcolor": "white",
           "linecolor": "white",
           "ticks": "",
           "title": {
            "standoff": 15
           },
           "zerolinecolor": "white",
           "zerolinewidth": 2
          },
          "yaxis": {
           "automargin": true,
           "gridcolor": "white",
           "linecolor": "white",
           "ticks": "",
           "title": {
            "standoff": 15
           },
           "zerolinecolor": "white",
           "zerolinewidth": 2
          }
         }
        },
        "title": {
         "text": "Distribution of Transaction Amount"
        },
        "xaxis": {
         "anchor": "y",
         "domain": [
          0,
          1
         ],
         "title": {
          "text": "Transaction_Amount"
         }
        },
        "yaxis": {
         "anchor": "x",
         "domain": [
          0,
          1
         ],
         "title": {
          "text": "count"
         }
        }
       }
      }
     },
     "metadata": {},
     "output_type": "display_data"
    }
   ],
   "source": [
    "fig_amount.show()"
   ]
  },
  {
   "cell_type": "code",
   "execution_count": 8,
   "id": "8a8d5a79",
   "metadata": {},
   "outputs": [
    {
     "data": {
      "application/vnd.plotly.v1+json": {
       "config": {
        "plotlyServerURL": "https://plot.ly"
       },
       "data": [
        {
         "alignmentgroup": "True",
         "hovertemplate": "Account_Type=%{x}<br>Transaction_Amount=%{y}<extra></extra>",
         "legendgroup": "",
         "marker": {
          "color": "#636efa"
         },
         "name": "",
         "notched": false,
         "offsetgroup": "",
         "orientation": "v",
         "showlegend": false,
         "type": "box",
         "x": [
          "Savings",
          "Savings",
          "Savings",
          "Savings",
          "Savings",
          "Savings",
          "Savings",
          "Savings",
          "Savings",
          "Current",
          "Savings",
          "Current",
          "Savings",
          "Current",
          "Savings",
          "Savings",
          "Current",
          "Savings",
          "Savings",
          "Savings",
          "Current",
          "Savings",
          "Savings",
          "Savings",
          "Savings",
          "Current",
          "Current",
          "Current",
          "Savings",
          "Savings",
          "Savings",
          "Current",
          "Current",
          "Current",
          "Savings",
          "Current",
          "Current",
          "Savings",
          "Savings",
          "Current",
          "Savings",
          "Savings",
          "Current",
          "Current",
          "Savings",
          "Current",
          "Savings",
          "Savings",
          "Current",
          "Current",
          "Current",
          "Savings",
          "Current",
          "Savings",
          "Current",
          "Current",
          "Current",
          "Savings",
          "Savings",
          "Current",
          "Savings",
          "Current",
          "Savings",
          "Current",
          "Savings",
          "Savings",
          "Current",
          "Savings",
          "Current",
          "Current",
          "Savings",
          "Current",
          "Current",
          "Current",
          "Savings",
          "Savings",
          "Savings",
          "Savings",
          "Savings",
          "Savings",
          "Savings",
          "Savings",
          "Current",
          "Savings",
          "Current",
          "Current",
          "Savings",
          "Savings",
          "Current",
          "Current",
          "Savings",
          "Savings",
          "Current",
          "Savings",
          "Savings",
          "Savings",
          "Savings",
          "Current",
          "Savings",
          "Savings",
          "Savings",
          "Savings",
          "Current",
          "Current",
          "Current",
          "Savings",
          "Savings",
          "Current",
          "Current",
          "Current",
          "Savings",
          "Savings",
          "Savings",
          "Savings",
          "Current",
          "Savings",
          "Savings",
          "Savings",
          "Current",
          "Savings",
          "Savings",
          "Current",
          "Savings",
          "Savings",
          "Current",
          "Current",
          "Current",
          "Savings",
          "Savings",
          "Savings",
          "Savings",
          "Savings",
          "Current",
          "Savings",
          "Current",
          "Current",
          "Savings",
          "Savings",
          "Savings",
          "Current",
          "Current",
          "Current",
          "Current",
          "Savings",
          "Current",
          "Savings",
          "Savings",
          "Savings",
          "Current",
          "Savings",
          "Savings",
          "Current",
          "Current",
          "Savings",
          "Current",
          "Current",
          "Savings",
          "Current",
          "Savings",
          "Savings",
          "Current",
          "Savings",
          "Current",
          "Current",
          "Savings",
          "Savings",
          "Savings",
          "Current",
          "Current",
          "Savings",
          "Savings",
          "Current",
          "Savings",
          "Current",
          "Current",
          "Savings",
          "Savings",
          "Savings",
          "Current",
          "Current",
          "Savings",
          "Savings",
          "Savings",
          "Savings",
          "Current",
          "Savings",
          "Current",
          "Current",
          "Current",
          "Current",
          "Savings",
          "Current",
          "Savings",
          "Current",
          "Current",
          "Savings",
          "Current",
          "Current",
          "Savings",
          "Savings",
          "Current",
          "Savings",
          "Current",
          "Savings",
          "Savings",
          "Savings",
          "Savings",
          "Current",
          "Current",
          "Current",
          "Savings",
          "Savings",
          "Savings",
          "Current",
          "Savings",
          "Current",
          "Current",
          "Current",
          "Current",
          "Current",
          "Current",
          "Current",
          "Savings",
          "Current",
          "Current",
          "Current",
          "Current",
          "Savings",
          "Savings",
          "Savings",
          "Savings",
          "Current",
          "Current",
          "Savings",
          "Current",
          "Savings",
          "Current",
          "Current",
          "Current",
          "Savings",
          "Savings",
          "Current",
          "Savings",
          "Current",
          "Savings",
          "Savings",
          "Current",
          "Savings",
          "Savings",
          "Savings",
          "Current",
          "Current",
          "Current",
          "Current",
          "Current",
          "Current",
          "Current",
          "Savings",
          "Savings",
          "Savings",
          "Savings",
          "Savings",
          "Savings",
          "Current",
          "Savings",
          "Current",
          "Savings",
          "Savings",
          "Savings",
          "Current",
          "Current",
          "Savings",
          "Savings",
          "Savings",
          "Current",
          "Current",
          "Current",
          "Current",
          "Savings",
          "Current",
          "Savings",
          "Savings",
          "Current",
          "Current",
          "Current",
          "Savings",
          "Current",
          "Current",
          "Current",
          "Current",
          "Savings",
          "Savings",
          "Current",
          "Current",
          "Savings",
          "Savings",
          "Current",
          "Savings",
          "Current",
          "Savings",
          "Current",
          "Current",
          "Current",
          "Current",
          "Current",
          "Current",
          "Current",
          "Current",
          "Savings",
          "Current",
          "Savings",
          "Savings",
          "Current",
          "Savings",
          "Current",
          "Current",
          "Current",
          "Savings",
          "Savings",
          "Current",
          "Current",
          "Savings",
          "Current",
          "Current",
          "Savings",
          "Current",
          "Savings",
          "Current",
          "Savings",
          "Savings",
          "Current",
          "Savings",
          "Current",
          "Current",
          "Current",
          "Current",
          "Savings",
          "Savings",
          "Current",
          "Savings",
          "Savings",
          "Savings",
          "Current",
          "Current",
          "Savings",
          "Current",
          "Current",
          "Savings",
          "Savings",
          "Savings",
          "Savings",
          "Savings",
          "Savings",
          "Current",
          "Current",
          "Current",
          "Current",
          "Current",
          "Savings",
          "Current",
          "Current",
          "Savings",
          "Savings",
          "Savings",
          "Current",
          "Current",
          "Current",
          "Savings",
          "Current",
          "Current",
          "Savings",
          "Current",
          "Current",
          "Current",
          "Current",
          "Current",
          "Current",
          "Current",
          "Current",
          "Savings",
          "Current",
          "Current",
          "Savings",
          "Savings",
          "Current",
          "Savings",
          "Savings",
          "Current",
          "Current",
          "Savings",
          "Current",
          "Savings",
          "Current",
          "Current",
          "Current",
          "Current",
          "Current",
          "Savings",
          "Current",
          "Current",
          "Savings",
          "Current",
          "Savings",
          "Current",
          "Current",
          "Current",
          "Savings",
          "Current",
          "Current",
          "Current",
          "Current",
          "Savings",
          "Savings",
          "Current",
          "Current",
          "Current",
          "Savings",
          "Savings",
          "Current",
          "Current",
          "Savings",
          "Current",
          "Current",
          "Savings",
          "Current",
          "Savings",
          "Savings",
          "Current",
          "Current",
          "Savings",
          "Savings",
          "Current",
          "Current",
          "Savings",
          "Savings",
          "Savings",
          "Current",
          "Current",
          "Savings",
          "Current",
          "Current",
          "Current",
          "Savings",
          "Current",
          "Current",
          "Current",
          "Current",
          "Current",
          "Savings",
          "Current",
          "Current",
          "Savings",
          "Current",
          "Savings",
          "Current",
          "Current",
          "Savings",
          "Savings",
          "Savings",
          "Current",
          "Current",
          "Savings",
          "Current",
          "Savings",
          "Savings",
          "Current",
          "Current",
          "Current",
          "Savings",
          "Savings",
          "Savings",
          "Current",
          "Current",
          "Current",
          "Current",
          "Current",
          "Current",
          "Savings",
          "Savings",
          "Savings",
          "Current",
          "Current",
          "Savings",
          "Savings",
          "Current",
          "Savings",
          "Savings",
          "Current",
          "Current",
          "Current",
          "Current",
          "Current",
          "Current",
          "Current",
          "Savings",
          "Savings",
          "Current",
          "Current",
          "Savings",
          "Current",
          "Savings",
          "Savings",
          "Savings",
          "Savings",
          "Savings",
          "Savings",
          "Savings",
          "Current",
          "Savings",
          "Savings",
          "Savings",
          "Savings",
          "Savings",
          "Savings",
          "Current",
          "Savings",
          "Savings",
          "Current",
          "Current",
          "Current",
          "Savings",
          "Current",
          "Savings",
          "Current",
          "Savings",
          "Current",
          "Savings",
          "Savings",
          "Savings",
          "Current",
          "Current",
          "Current",
          "Savings",
          "Current",
          "Savings",
          "Current",
          "Current",
          "Savings",
          "Current",
          "Current",
          "Savings",
          "Savings",
          "Savings",
          "Current",
          "Current",
          "Savings",
          "Savings",
          "Current",
          "Savings",
          "Current",
          "Savings",
          "Savings",
          "Savings",
          "Current",
          "Savings",
          "Savings",
          "Savings",
          "Savings",
          "Current",
          "Current",
          "Savings",
          "Savings",
          "Savings",
          "Savings",
          "Savings",
          "Current",
          "Current",
          "Current",
          "Current",
          "Savings",
          "Savings",
          "Savings",
          "Current",
          "Current",
          "Current",
          "Savings",
          "Current",
          "Savings",
          "Current",
          "Savings",
          "Current",
          "Savings",
          "Current",
          "Savings",
          "Current",
          "Savings",
          "Current",
          "Savings",
          "Current",
          "Current",
          "Current",
          "Current",
          "Current",
          "Current",
          "Current",
          "Current",
          "Current",
          "Current",
          "Current",
          "Savings",
          "Savings",
          "Current",
          "Savings",
          "Current",
          "Savings",
          "Savings",
          "Savings",
          "Current",
          "Savings",
          "Savings",
          "Current",
          "Savings",
          "Savings",
          "Current",
          "Current",
          "Current",
          "Current",
          "Current",
          "Current",
          "Savings",
          "Savings",
          "Current",
          "Savings",
          "Current",
          "Savings",
          "Current",
          "Savings",
          "Savings",
          "Current",
          "Savings",
          "Savings",
          "Savings",
          "Savings",
          "Current",
          "Savings",
          "Current",
          "Current",
          "Current",
          "Current",
          "Current",
          "Current",
          "Current",
          "Current",
          "Savings",
          "Current",
          "Savings",
          "Current",
          "Current",
          "Savings",
          "Current",
          "Current",
          "Savings",
          "Current",
          "Savings",
          "Savings",
          "Savings",
          "Savings",
          "Current",
          "Current",
          "Savings",
          "Savings",
          "Savings",
          "Current",
          "Current",
          "Current",
          "Savings",
          "Current",
          "Current",
          "Current",
          "Current",
          "Savings",
          "Savings",
          "Savings",
          "Current",
          "Savings",
          "Savings",
          "Current",
          "Savings",
          "Savings",
          "Current",
          "Savings",
          "Savings",
          "Current",
          "Current",
          "Current",
          "Savings",
          "Savings",
          "Savings",
          "Savings",
          "Current",
          "Current",
          "Savings",
          "Savings",
          "Savings",
          "Current",
          "Current",
          "Current",
          "Savings",
          "Current",
          "Savings",
          "Current",
          "Savings",
          "Current",
          "Savings",
          "Savings",
          "Savings",
          "Current",
          "Savings",
          "Current",
          "Current",
          "Current",
          "Current",
          "Current",
          "Savings",
          "Savings",
          "Current",
          "Savings",
          "Current",
          "Savings",
          "Current",
          "Current",
          "Savings",
          "Savings",
          "Current",
          "Current",
          "Savings",
          "Current",
          "Savings",
          "Current",
          "Current",
          "Current",
          "Current",
          "Savings",
          "Current",
          "Current",
          "Current",
          "Current",
          "Current",
          "Savings",
          "Current",
          "Current",
          "Current",
          "Current",
          "Current",
          "Current",
          "Current",
          "Savings",
          "Current",
          "Savings",
          "Current",
          "Savings",
          "Savings",
          "Current",
          "Savings",
          "Current",
          "Current",
          "Savings",
          "Current",
          "Current",
          "Savings",
          "Savings",
          "Current",
          "Savings",
          "Current",
          "Savings",
          "Current",
          "Savings",
          "Savings",
          "Savings",
          "Savings",
          "Current",
          "Current",
          "Savings",
          "Current",
          "Savings",
          "Savings",
          "Current",
          "Current",
          "Current",
          "Savings",
          "Current",
          "Current",
          "Current",
          "Savings",
          "Savings",
          "Current",
          "Savings",
          "Savings",
          "Savings",
          "Savings",
          "Savings",
          "Current",
          "Current",
          "Savings",
          "Savings",
          "Savings",
          "Savings",
          "Savings",
          "Current",
          "Savings",
          "Savings",
          "Savings",
          "Savings",
          "Current",
          "Current",
          "Current",
          "Current",
          "Savings",
          "Current",
          "Current",
          "Savings",
          "Savings",
          "Current",
          "Current",
          "Current",
          "Current",
          "Current",
          "Current",
          "Savings",
          "Savings",
          "Current",
          "Current",
          "Savings",
          "Current",
          "Savings",
          "Current",
          "Current",
          "Savings",
          "Current",
          "Savings",
          "Current",
          "Savings",
          "Current",
          "Current",
          "Savings",
          "Savings",
          "Current",
          "Current",
          "Current",
          "Savings",
          "Current",
          "Current",
          "Current",
          "Savings",
          "Current",
          "Current",
          "Savings",
          "Current",
          "Savings",
          "Savings",
          "Current",
          "Savings",
          "Current",
          "Savings",
          "Current",
          "Current",
          "Current",
          "Current",
          "Savings",
          "Current",
          "Current",
          "Savings",
          "Current",
          "Current",
          "Savings",
          "Savings",
          "Savings",
          "Current",
          "Savings",
          "Savings",
          "Current",
          "Savings",
          "Current",
          "Current",
          "Savings",
          "Current",
          "Current",
          "Savings",
          "Current",
          "Savings",
          "Current",
          "Current",
          "Current",
          "Current",
          "Savings",
          "Current",
          "Savings",
          "Savings",
          "Savings",
          "Current",
          "Current",
          "Savings",
          "Current",
          "Savings",
          "Savings",
          "Savings",
          "Savings",
          "Current",
          "Current",
          "Savings",
          "Savings",
          "Current",
          "Savings",
          "Current",
          "Savings",
          "Savings",
          "Savings",
          "Savings",
          "Current",
          "Savings",
          "Savings",
          "Current",
          "Current",
          "Current",
          "Savings",
          "Current",
          "Savings",
          "Savings",
          "Current",
          "Savings",
          "Current",
          "Savings",
          "Current",
          "Savings",
          "Savings",
          "Savings",
          "Current",
          "Savings",
          "Current",
          "Current",
          "Current",
          "Savings",
          "Current",
          "Savings",
          "Current",
          "Savings",
          "Current",
          "Current",
          "Savings",
          "Savings",
          "Savings",
          "Current",
          "Current",
          "Savings",
          "Current",
          "Savings",
          "Savings",
          "Savings",
          "Current",
          "Savings",
          "Current",
          "Current",
          "Current",
          "Current",
          "Savings",
          "Current",
          "Current",
          "Savings",
          "Savings",
          "Current",
          "Savings",
          "Savings",
          "Savings",
          "Current",
          "Savings",
          "Current",
          "Current",
          "Current",
          "Savings",
          "Savings",
          "Current",
          "Savings",
          "Savings",
          "Current",
          "Current",
          "Savings",
          "Current",
          "Current",
          "Savings",
          "Current",
          "Savings",
          "Savings",
          "Savings",
          "Savings",
          "Savings",
          "Current",
          "Savings",
          "Savings",
          "Savings",
          "Current",
          "Current",
          "Savings",
          "Current",
          "Savings",
          "Current",
          "Savings",
          "Current",
          "Current",
          "Savings",
          "Current"
         ],
         "x0": " ",
         "xaxis": "x",
         "y": {
          "bdata": "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",
          "dtype": "f8"
         },
         "y0": " ",
         "yaxis": "y"
        }
       ],
       "layout": {
        "boxmode": "group",
        "legend": {
         "tracegroupgap": 0
        },
        "template": {
         "data": {
          "bar": [
           {
            "error_x": {
             "color": "#2a3f5f"
            },
            "error_y": {
             "color": "#2a3f5f"
            },
            "marker": {
             "line": {
              "color": "#E5ECF6",
              "width": 0.5
             },
             "pattern": {
              "fillmode": "overlay",
              "size": 10,
              "solidity": 0.2
             }
            },
            "type": "bar"
           }
          ],
          "barpolar": [
           {
            "marker": {
             "line": {
              "color": "#E5ECF6",
              "width": 0.5
             },
             "pattern": {
              "fillmode": "overlay",
              "size": 10,
              "solidity": 0.2
             }
            },
            "type": "barpolar"
           }
          ],
          "carpet": [
           {
            "aaxis": {
             "endlinecolor": "#2a3f5f",
             "gridcolor": "white",
             "linecolor": "white",
             "minorgridcolor": "white",
             "startlinecolor": "#2a3f5f"
            },
            "baxis": {
             "endlinecolor": "#2a3f5f",
             "gridcolor": "white",
             "linecolor": "white",
             "minorgridcolor": "white",
             "startlinecolor": "#2a3f5f"
            },
            "type": "carpet"
           }
          ],
          "choropleth": [
           {
            "colorbar": {
             "outlinewidth": 0,
             "ticks": ""
            },
            "type": "choropleth"
           }
          ],
          "contour": [
           {
            "colorbar": {
             "outlinewidth": 0,
             "ticks": ""
            },
            "colorscale": [
             [
              0,
              "#0d0887"
             ],
             [
              0.1111111111111111,
              "#46039f"
             ],
             [
              0.2222222222222222,
              "#7201a8"
             ],
             [
              0.3333333333333333,
              "#9c179e"
             ],
             [
              0.4444444444444444,
              "#bd3786"
             ],
             [
              0.5555555555555556,
              "#d8576b"
             ],
             [
              0.6666666666666666,
              "#ed7953"
             ],
             [
              0.7777777777777778,
              "#fb9f3a"
             ],
             [
              0.8888888888888888,
              "#fdca26"
             ],
             [
              1,
              "#f0f921"
             ]
            ],
            "type": "contour"
           }
          ],
          "contourcarpet": [
           {
            "colorbar": {
             "outlinewidth": 0,
             "ticks": ""
            },
            "type": "contourcarpet"
           }
          ],
          "heatmap": [
           {
            "colorbar": {
             "outlinewidth": 0,
             "ticks": ""
            },
            "colorscale": [
             [
              0,
              "#0d0887"
             ],
             [
              0.1111111111111111,
              "#46039f"
             ],
             [
              0.2222222222222222,
              "#7201a8"
             ],
             [
              0.3333333333333333,
              "#9c179e"
             ],
             [
              0.4444444444444444,
              "#bd3786"
             ],
             [
              0.5555555555555556,
              "#d8576b"
             ],
             [
              0.6666666666666666,
              "#ed7953"
             ],
             [
              0.7777777777777778,
              "#fb9f3a"
             ],
             [
              0.8888888888888888,
              "#fdca26"
             ],
             [
              1,
              "#f0f921"
             ]
            ],
            "type": "heatmap"
           }
          ],
          "histogram": [
           {
            "marker": {
             "pattern": {
              "fillmode": "overlay",
              "size": 10,
              "solidity": 0.2
             }
            },
            "type": "histogram"
           }
          ],
          "histogram2d": [
           {
            "colorbar": {
             "outlinewidth": 0,
             "ticks": ""
            },
            "colorscale": [
             [
              0,
              "#0d0887"
             ],
             [
              0.1111111111111111,
              "#46039f"
             ],
             [
              0.2222222222222222,
              "#7201a8"
             ],
             [
              0.3333333333333333,
              "#9c179e"
             ],
             [
              0.4444444444444444,
              "#bd3786"
             ],
             [
              0.5555555555555556,
              "#d8576b"
             ],
             [
              0.6666666666666666,
              "#ed7953"
             ],
             [
              0.7777777777777778,
              "#fb9f3a"
             ],
             [
              0.8888888888888888,
              "#fdca26"
             ],
             [
              1,
              "#f0f921"
             ]
            ],
            "type": "histogram2d"
           }
          ],
          "histogram2dcontour": [
           {
            "colorbar": {
             "outlinewidth": 0,
             "ticks": ""
            },
            "colorscale": [
             [
              0,
              "#0d0887"
             ],
             [
              0.1111111111111111,
              "#46039f"
             ],
             [
              0.2222222222222222,
              "#7201a8"
             ],
             [
              0.3333333333333333,
              "#9c179e"
             ],
             [
              0.4444444444444444,
              "#bd3786"
             ],
             [
              0.5555555555555556,
              "#d8576b"
             ],
             [
              0.6666666666666666,
              "#ed7953"
             ],
             [
              0.7777777777777778,
              "#fb9f3a"
             ],
             [
              0.8888888888888888,
              "#fdca26"
             ],
             [
              1,
              "#f0f921"
             ]
            ],
            "type": "histogram2dcontour"
           }
          ],
          "mesh3d": [
           {
            "colorbar": {
             "outlinewidth": 0,
             "ticks": ""
            },
            "type": "mesh3d"
           }
          ],
          "parcoords": [
           {
            "line": {
             "colorbar": {
              "outlinewidth": 0,
              "ticks": ""
             }
            },
            "type": "parcoords"
           }
          ],
          "pie": [
           {
            "automargin": true,
            "type": "pie"
           }
          ],
          "scatter": [
           {
            "fillpattern": {
             "fillmode": "overlay",
             "size": 10,
             "solidity": 0.2
            },
            "type": "scatter"
           }
          ],
          "scatter3d": [
           {
            "line": {
             "colorbar": {
              "outlinewidth": 0,
              "ticks": ""
             }
            },
            "marker": {
             "colorbar": {
              "outlinewidth": 0,
              "ticks": ""
             }
            },
            "type": "scatter3d"
           }
          ],
          "scattercarpet": [
           {
            "marker": {
             "colorbar": {
              "outlinewidth": 0,
              "ticks": ""
             }
            },
            "type": "scattercarpet"
           }
          ],
          "scattergeo": [
           {
            "marker": {
             "colorbar": {
              "outlinewidth": 0,
              "ticks": ""
             }
            },
            "type": "scattergeo"
           }
          ],
          "scattergl": [
           {
            "marker": {
             "colorbar": {
              "outlinewidth": 0,
              "ticks": ""
             }
            },
            "type": "scattergl"
           }
          ],
          "scattermap": [
           {
            "marker": {
             "colorbar": {
              "outlinewidth": 0,
              "ticks": ""
             }
            },
            "type": "scattermap"
           }
          ],
          "scattermapbox": [
           {
            "marker": {
             "colorbar": {
              "outlinewidth": 0,
              "ticks": ""
             }
            },
            "type": "scattermapbox"
           }
          ],
          "scatterpolar": [
           {
            "marker": {
             "colorbar": {
              "outlinewidth": 0,
              "ticks": ""
             }
            },
            "type": "scatterpolar"
           }
          ],
          "scatterpolargl": [
           {
            "marker": {
             "colorbar": {
              "outlinewidth": 0,
              "ticks": ""
             }
            },
            "type": "scatterpolargl"
           }
          ],
          "scatterternary": [
           {
            "marker": {
             "colorbar": {
              "outlinewidth": 0,
              "ticks": ""
             }
            },
            "type": "scatterternary"
           }
          ],
          "surface": [
           {
            "colorbar": {
             "outlinewidth": 0,
             "ticks": ""
            },
            "colorscale": [
             [
              0,
              "#0d0887"
             ],
             [
              0.1111111111111111,
              "#46039f"
             ],
             [
              0.2222222222222222,
              "#7201a8"
             ],
             [
              0.3333333333333333,
              "#9c179e"
             ],
             [
              0.4444444444444444,
              "#bd3786"
             ],
             [
              0.5555555555555556,
              "#d8576b"
             ],
             [
              0.6666666666666666,
              "#ed7953"
             ],
             [
              0.7777777777777778,
              "#fb9f3a"
             ],
             [
              0.8888888888888888,
              "#fdca26"
             ],
             [
              1,
              "#f0f921"
             ]
            ],
            "type": "surface"
           }
          ],
          "table": [
           {
            "cells": {
             "fill": {
              "color": "#EBF0F8"
             },
             "line": {
              "color": "white"
             }
            },
            "header": {
             "fill": {
              "color": "#C8D4E3"
             },
             "line": {
              "color": "white"
             }
            },
            "type": "table"
           }
          ]
         },
         "layout": {
          "annotationdefaults": {
           "arrowcolor": "#2a3f5f",
           "arrowhead": 0,
           "arrowwidth": 1
          },
          "autotypenumbers": "strict",
          "coloraxis": {
           "colorbar": {
            "outlinewidth": 0,
            "ticks": ""
           }
          },
          "colorscale": {
           "diverging": [
            [
             0,
             "#8e0152"
            ],
            [
             0.1,
             "#c51b7d"
            ],
            [
             0.2,
             "#de77ae"
            ],
            [
             0.3,
             "#f1b6da"
            ],
            [
             0.4,
             "#fde0ef"
            ],
            [
             0.5,
             "#f7f7f7"
            ],
            [
             0.6,
             "#e6f5d0"
            ],
            [
             0.7,
             "#b8e186"
            ],
            [
             0.8,
             "#7fbc41"
            ],
            [
             0.9,
             "#4d9221"
            ],
            [
             1,
             "#276419"
            ]
           ],
           "sequential": [
            [
             0,
             "#0d0887"
            ],
            [
             0.1111111111111111,
             "#46039f"
            ],
            [
             0.2222222222222222,
             "#7201a8"
            ],
            [
             0.3333333333333333,
             "#9c179e"
            ],
            [
             0.4444444444444444,
             "#bd3786"
            ],
            [
             0.5555555555555556,
             "#d8576b"
            ],
            [
             0.6666666666666666,
             "#ed7953"
            ],
            [
             0.7777777777777778,
             "#fb9f3a"
            ],
            [
             0.8888888888888888,
             "#fdca26"
            ],
            [
             1,
             "#f0f921"
            ]
           ],
           "sequentialminus": [
            [
             0,
             "#0d0887"
            ],
            [
             0.1111111111111111,
             "#46039f"
            ],
            [
             0.2222222222222222,
             "#7201a8"
            ],
            [
             0.3333333333333333,
             "#9c179e"
            ],
            [
             0.4444444444444444,
             "#bd3786"
            ],
            [
             0.5555555555555556,
             "#d8576b"
            ],
            [
             0.6666666666666666,
             "#ed7953"
            ],
            [
             0.7777777777777778,
             "#fb9f3a"
            ],
            [
             0.8888888888888888,
             "#fdca26"
            ],
            [
             1,
             "#f0f921"
            ]
           ]
          },
          "colorway": [
           "#636efa",
           "#EF553B",
           "#00cc96",
           "#ab63fa",
           "#FFA15A",
           "#19d3f3",
           "#FF6692",
           "#B6E880",
           "#FF97FF",
           "#FECB52"
          ],
          "font": {
           "color": "#2a3f5f"
          },
          "geo": {
           "bgcolor": "white",
           "lakecolor": "white",
           "landcolor": "#E5ECF6",
           "showlakes": true,
           "showland": true,
           "subunitcolor": "white"
          },
          "hoverlabel": {
           "align": "left"
          },
          "hovermode": "closest",
          "mapbox": {
           "style": "light"
          },
          "paper_bgcolor": "white",
          "plot_bgcolor": "#E5ECF6",
          "polar": {
           "angularaxis": {
            "gridcolor": "white",
            "linecolor": "white",
            "ticks": ""
           },
           "bgcolor": "#E5ECF6",
           "radialaxis": {
            "gridcolor": "white",
            "linecolor": "white",
            "ticks": ""
           }
          },
          "scene": {
           "xaxis": {
            "backgroundcolor": "#E5ECF6",
            "gridcolor": "white",
            "gridwidth": 2,
            "linecolor": "white",
            "showbackground": true,
            "ticks": "",
            "zerolinecolor": "white"
           },
           "yaxis": {
            "backgroundcolor": "#E5ECF6",
            "gridcolor": "white",
            "gridwidth": 2,
            "linecolor": "white",
            "showbackground": true,
            "ticks": "",
            "zerolinecolor": "white"
           },
           "zaxis": {
            "backgroundcolor": "#E5ECF6",
            "gridcolor": "white",
            "gridwidth": 2,
            "linecolor": "white",
            "showbackground": true,
            "ticks": "",
            "zerolinecolor": "white"
           }
          },
          "shapedefaults": {
           "line": {
            "color": "#2a3f5f"
           }
          },
          "ternary": {
           "aaxis": {
            "gridcolor": "white",
            "linecolor": "white",
            "ticks": ""
           },
           "baxis": {
            "gridcolor": "white",
            "linecolor": "white",
            "ticks": ""
           },
           "bgcolor": "#E5ECF6",
           "caxis": {
            "gridcolor": "white",
            "linecolor": "white",
            "ticks": ""
           }
          },
          "title": {
           "x": 0.05
          },
          "xaxis": {
           "automargin": true,
           "gridcolor": "white",
           "linecolor": "white",
           "ticks": "",
           "title": {
            "standoff": 15
           },
           "zerolinecolor": "white",
           "zerolinewidth": 2
          },
          "yaxis": {
           "automargin": true,
           "gridcolor": "white",
           "linecolor": "white",
           "ticks": "",
           "title": {
            "standoff": 15
           },
           "zerolinecolor": "white",
           "zerolinewidth": 2
          }
         }
        },
        "title": {
         "text": "Transaction Amount by Account Type"
        },
        "xaxis": {
         "anchor": "y",
         "domain": [
          0,
          1
         ],
         "title": {
          "text": "Account_Type"
         }
        },
        "yaxis": {
         "anchor": "x",
         "domain": [
          0,
          1
         ],
         "title": {
          "text": "Transaction_Amount"
         }
        }
       }
      }
     },
     "metadata": {},
     "output_type": "display_data"
    }
   ],
   "source": [
    "# Transaction Amount by Account Type\n",
    "fig_box_amount = px.box(data,\n",
    "                        x='Account_Type',\n",
    "                        y='Transaction_Amount',\n",
    "                        title='Transaction Amount by Account Type')\n",
    "fig_box_amount.show()"
   ]
  },
  {
   "cell_type": "code",
   "execution_count": 9,
   "id": "d2aa037f",
   "metadata": {},
   "outputs": [
    {
     "data": {
      "application/vnd.plotly.v1+json": {
       "config": {
        "plotlyServerURL": "https://plot.ly"
       },
       "data": [
        {
         "hovertemplate": "Account_Type=Savings<br>Age=%{x}<br>Average_Transaction_Amount=%{y}<extra></extra>",
         "legendgroup": "Savings",
         "marker": {
          "color": "#636efa",
          "symbol": "circle"
         },
         "mode": "markers",
         "name": "Savings",
         "orientation": "v",
         "showlegend": true,
         "type": "scatter",
         "x": {
          "bdata": "JCk9PTgYFSsmGT0eKD0yFx0TPTMTIRkZJhQqGTtAIRUSKSg1KDkkKyMlFhIeLSYxFDMXISsnKxg0ODYyFDcaHxMgMh4cPDUoGikmOC1AHx8WHxU1MjQbIicuNCozPjs3HiwvEy9ANEA/GD8aKiEkFTUfMCU9Hx8dFiocOzY0KTkiHSg2NBQVKDAYMz4+JDEUIDE/LRk8NSk+HDUpJjobMRMXJicUKj8cJjkZJDs6HzQwNzw8O0A6OyY3HhQ0MThANic0HjsxMC4cPCgzIDM3IjgdOSEsMjgdEz87OS4WKRoyMxgSPCAxLRsrHiUUPCwnMisrJSw7HBsoLTcxMzgqFz4oLS4cOjEdKyA3KSodOCcrHzQXGBUTEzcaKD48IhguQBUTNRUzNBISGi0kLBgyPBw2LhUXGiAmPCgmLTI8GioWOxo0IjcxIjAeEh82IywzHhc0IhgXMjwrQCogLRkhLRQ8NxwoGBgsORgUNBVAMDUzLCI/Oj4jMBoVOxUzHT01QDghMywuIzglEyE3Kj4SIBITIzsrNjgvLBYoHTkSFCg+HR4yORQwLBkVGzg9NCktMxQ5Gj0UGichFioVNTAxPh0nHzQoNik2MCEVNS85LCsSEyYSOB0jFSo2ICE4HiIbGRsuOg==",
          "dtype": "i1"
         },
         "xaxis": "x",
         "y": {
          "bdata": "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",
          "dtype": "f8"
         },
         "yaxis": "y"
        },
        {
         "hovertemplate": "<b>OLS trendline</b><br>Average_Transaction_Amount = -0.0102589 * Age + 1000.71<br>R<sup>2</sup>=0.000048<br><br>Account_Type=Savings<br>Age=%{x}<br>Average_Transaction_Amount=%{y} <b>(trend)</b><extra></extra>",
         "legendgroup": "Savings",
         "marker": {
          "color": "#636efa",
          "symbol": "circle"
         },
         "mode": "lines",
         "name": "Savings",
         "showlegend": false,
         "type": "scatter",
         "x": {
          "bdata": "EhISEhISEhISEhITExMTExMTExMTExMUFBQUFBQUFBQUFBQUFBUVFRUVFRUVFRUVFRUVFRUWFhYWFhYWFxcXFxcXFxcYGBgYGBgYGBgYGBgZGRkZGRkZGRkaGhoaGhoaGhoaGhobGxsbGxsbHBwcHBwcHBwcHR0dHR0dHR0dHR0dHh4eHh4eHh4eHh4fHx8fHx8fHx8fHyAgICAgICAgICEhISEhISEhISEhIiIiIiIiIiIiIyMjIyMjJCQkJCQkJSUlJSUmJiYmJiYmJiYmJicnJycnJycnKCgoKCgoKCgoKCgoKCgoKSkpKSkpKSkpKSoqKioqKioqKioqKisrKysrKysrKysrKywsLCwsLCwsLCwsLC0tLS0tLS0tLS0tLi4uLi4uLi4vLy8vMDAwMDAwMDAwMDExMTExMTExMTExMjIyMjIyMjIyMjIzMzMzMzMzMzMzMzMzMzQ0NDQ0NDQ0NDQ0NDQ0NDQ1NTU1NTU1NTU1NTY2NjY2NjY2NjY3Nzc3Nzc3Nzc3Nzg4ODg4ODg4ODg4ODg4OTk5OTk5OTk5OTo6Ojo6Ojs7Ozs7Ozs7Ozs7Ozw8PDw8PDw8PDw8PDw9PT09PT09PT0+Pj4+Pj4+Pj4+Pz8/Pz8/QEBAQEBAQEBAQA==",
          "dtype": "i1"
         },
         "xaxis": "x",
         "y": {
          "bdata": "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",
          "dtype": "f8"
         },
         "yaxis": "y"
        },
        {
         "hovertemplate": "Account_Type=Current<br>Age=%{x}<br>Average_Transaction_Amount=%{y}<extra></extra>",
         "legendgroup": "Current",
         "marker": {
          "color": "#EF553B",
          "symbol": "circle"
         },
         "mode": "markers",
         "name": "Current",
         "orientation": "v",
         "showlegend": true,
         "type": "scatter",
         "x": {
          "bdata": "OhorLSAhJSg/Hx0kFzknPSsrFhYdEysuOiEuFS0qFC0tQDcuMSMSNT03GzYqNxUuGBIuLSQWPTsYPDgzIDQVLiU2F0AUOhY+Jx9AICIxKzkZHz00Ex00LygSKzcYNyY/FT8TQDskFhM9HjkZMjsqJTg0EzgrLhobJzAUJUA4GCRAFDQ1JhcVKjs4ORcdQBM8Py0zFCE/Mh8aNy0hNB0eOhktNRMoLTMWHjkiJh0iPjkSFTcUMCUvMykaHUAiIz0iEhg5PRwrMBwXMCIZKTYsNCw0Kz4oFyobNTU5NiMlIiclFy8kGyA+IT82HBI7OiggGxIhExMtJRwmHBQXFxkwIRwpMxUbJSg9FRctKjI5Lz45JDY/GSUvJj4gHiI/MTwnOiYcGTU/LxomKS0VITs+HRMTPzUiMBk7OyopOjIgEjYrIx0YKhYsFCpANCQnKDk+NxsVGiglQDQjLD4gGCYhNRUVJBItNiAuPzwpIhsfPRIlLz0vNh0wJxkdJScXMRMjHCMpHhMWFS03MDodORQgMhtAExYqMRInEykmMyg6LBYcHCY+NisYPx47KD45MzQ1NSIjIyo9FDQeFxoyLTI3LiAUHiAcOiUdOiEvNCw0NUAwNhMwMRU3JDIyGjM/FR08Ii41NCgYNyQdHR4SIyseKTIbMCAjNyETJRITOxsaKEAVOjof",
          "dtype": "i1"
         },
         "xaxis": "x",
         "y": {
          "bdata": "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",
          "dtype": "f8"
         },
         "yaxis": "y"
        },
        {
         "hovertemplate": "<b>OLS trendline</b><br>Average_Transaction_Amount = -0.0402788 * Age + 1002.68<br>R<sup>2</sup>=0.000711<br><br>Account_Type=Current<br>Age=%{x}<br>Average_Transaction_Amount=%{y} <b>(trend)</b><extra></extra>",
         "legendgroup": "Current",
         "marker": {
          "color": "#EF553B",
          "symbol": "circle"
         },
         "mode": "lines",
         "name": "Current",
         "showlegend": false,
         "type": "scatter",
         "x": {
          "bdata": "EhISEhISEhISEhISEhMTExMTExMTExMTExMTExMTExQUFBQUFBQUFBQUFRUVFRUVFRUVFRUVFRUVFRYWFhYWFhYWFhYXFxcXFxcXFxcXFxcYGBgYGBgYGBgZGRkZGRkZGRkaGhoaGhoaGhobGxsbGxsbGxsbGxwcHBwcHBwcHBwcHR0dHR0dHR0dHR0dHR0dHR4eHh4eHh4eHh4fHx8fHx8gICAgICAgICAgICAgISEhISEhISEhISEiIiIiIiIiIiIiIiIjIyMjIyMjIyMjIyQkJCQkJCQkJCQlJSUlJSUlJSUlJSUlJSUmJiYmJiYmJiYmJycnJycnJycnKCgoKCgoKCgoKCgoKSkpKSkpKSkpKioqKioqKioqKiorKysrKysrKysrKyssLCwsLCwtLS0tLS0tLS0tLS0tLS0uLi4uLi4uLi4uLy8vLy8vLy8vMDAwMDAwMDAwMDAxMTExMTEyMjIyMjIyMjIyMzMzMzMzMzM0NDQ0NDQ0NDQ0NDQ0NDQ1NTU1NTU1NTU1NTU2NjY2NjY2NjY2Njc3Nzc3Nzc3Nzc3Nzc4ODg4ODk5OTk5OTk5OTk5OTk6Ojo6Ojo6Ojo6Ojo6Ozs7Ozs7Ozs7Ozw8PDw8PT09PT09PT09PT0+Pj4+Pj4+Pj4+Pj8/Pz8/Pz8/Pz8/Pz9AQEBAQEBAQEBAQEBA",
          "dtype": "i1"
         },
         "xaxis": "x",
         "y": {
          "bdata": "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",
          "dtype": "f8"
         },
         "yaxis": "y"
        }
       ],
       "layout": {
        "legend": {
         "title": {
          "text": "Account_Type"
         },
         "tracegroupgap": 0
        },
        "template": {
         "data": {
          "bar": [
           {
            "error_x": {
             "color": "#2a3f5f"
            },
            "error_y": {
             "color": "#2a3f5f"
            },
            "marker": {
             "line": {
              "color": "#E5ECF6",
              "width": 0.5
             },
             "pattern": {
              "fillmode": "overlay",
              "size": 10,
              "solidity": 0.2
             }
            },
            "type": "bar"
           }
          ],
          "barpolar": [
           {
            "marker": {
             "line": {
              "color": "#E5ECF6",
              "width": 0.5
             },
             "pattern": {
              "fillmode": "overlay",
              "size": 10,
              "solidity": 0.2
             }
            },
            "type": "barpolar"
           }
          ],
          "carpet": [
           {
            "aaxis": {
             "endlinecolor": "#2a3f5f",
             "gridcolor": "white",
             "linecolor": "white",
             "minorgridcolor": "white",
             "startlinecolor": "#2a3f5f"
            },
            "baxis": {
             "endlinecolor": "#2a3f5f",
             "gridcolor": "white",
             "linecolor": "white",
             "minorgridcolor": "white",
             "startlinecolor": "#2a3f5f"
            },
            "type": "carpet"
           }
          ],
          "choropleth": [
           {
            "colorbar": {
             "outlinewidth": 0,
             "ticks": ""
            },
            "type": "choropleth"
           }
          ],
          "contour": [
           {
            "colorbar": {
             "outlinewidth": 0,
             "ticks": ""
            },
            "colorscale": [
             [
              0,
              "#0d0887"
             ],
             [
              0.1111111111111111,
              "#46039f"
             ],
             [
              0.2222222222222222,
              "#7201a8"
             ],
             [
              0.3333333333333333,
              "#9c179e"
             ],
             [
              0.4444444444444444,
              "#bd3786"
             ],
             [
              0.5555555555555556,
              "#d8576b"
             ],
             [
              0.6666666666666666,
              "#ed7953"
             ],
             [
              0.7777777777777778,
              "#fb9f3a"
             ],
             [
              0.8888888888888888,
              "#fdca26"
             ],
             [
              1,
              "#f0f921"
             ]
            ],
            "type": "contour"
           }
          ],
          "contourcarpet": [
           {
            "colorbar": {
             "outlinewidth": 0,
             "ticks": ""
            },
            "type": "contourcarpet"
           }
          ],
          "heatmap": [
           {
            "colorbar": {
             "outlinewidth": 0,
             "ticks": ""
            },
            "colorscale": [
             [
              0,
              "#0d0887"
             ],
             [
              0.1111111111111111,
              "#46039f"
             ],
             [
              0.2222222222222222,
              "#7201a8"
             ],
             [
              0.3333333333333333,
              "#9c179e"
             ],
             [
              0.4444444444444444,
              "#bd3786"
             ],
             [
              0.5555555555555556,
              "#d8576b"
             ],
             [
              0.6666666666666666,
              "#ed7953"
             ],
             [
              0.7777777777777778,
              "#fb9f3a"
             ],
             [
              0.8888888888888888,
              "#fdca26"
             ],
             [
              1,
              "#f0f921"
             ]
            ],
            "type": "heatmap"
           }
          ],
          "histogram": [
           {
            "marker": {
             "pattern": {
              "fillmode": "overlay",
              "size": 10,
              "solidity": 0.2
             }
            },
            "type": "histogram"
           }
          ],
          "histogram2d": [
           {
            "colorbar": {
             "outlinewidth": 0,
             "ticks": ""
            },
            "colorscale": [
             [
              0,
              "#0d0887"
             ],
             [
              0.1111111111111111,
              "#46039f"
             ],
             [
              0.2222222222222222,
              "#7201a8"
             ],
             [
              0.3333333333333333,
              "#9c179e"
             ],
             [
              0.4444444444444444,
              "#bd3786"
             ],
             [
              0.5555555555555556,
              "#d8576b"
             ],
             [
              0.6666666666666666,
              "#ed7953"
             ],
             [
              0.7777777777777778,
              "#fb9f3a"
             ],
             [
              0.8888888888888888,
              "#fdca26"
             ],
             [
              1,
              "#f0f921"
             ]
            ],
            "type": "histogram2d"
           }
          ],
          "histogram2dcontour": [
           {
            "colorbar": {
             "outlinewidth": 0,
             "ticks": ""
            },
            "colorscale": [
             [
              0,
              "#0d0887"
             ],
             [
              0.1111111111111111,
              "#46039f"
             ],
             [
              0.2222222222222222,
              "#7201a8"
             ],
             [
              0.3333333333333333,
              "#9c179e"
             ],
             [
              0.4444444444444444,
              "#bd3786"
             ],
             [
              0.5555555555555556,
              "#d8576b"
             ],
             [
              0.6666666666666666,
              "#ed7953"
             ],
             [
              0.7777777777777778,
              "#fb9f3a"
             ],
             [
              0.8888888888888888,
              "#fdca26"
             ],
             [
              1,
              "#f0f921"
             ]
            ],
            "type": "histogram2dcontour"
           }
          ],
          "mesh3d": [
           {
            "colorbar": {
             "outlinewidth": 0,
             "ticks": ""
            },
            "type": "mesh3d"
           }
          ],
          "parcoords": [
           {
            "line": {
             "colorbar": {
              "outlinewidth": 0,
              "ticks": ""
             }
            },
            "type": "parcoords"
           }
          ],
          "pie": [
           {
            "automargin": true,
            "type": "pie"
           }
          ],
          "scatter": [
           {
            "fillpattern": {
             "fillmode": "overlay",
             "size": 10,
             "solidity": 0.2
            },
            "type": "scatter"
           }
          ],
          "scatter3d": [
           {
            "line": {
             "colorbar": {
              "outlinewidth": 0,
              "ticks": ""
             }
            },
            "marker": {
             "colorbar": {
              "outlinewidth": 0,
              "ticks": ""
             }
            },
            "type": "scatter3d"
           }
          ],
          "scattercarpet": [
           {
            "marker": {
             "colorbar": {
              "outlinewidth": 0,
              "ticks": ""
             }
            },
            "type": "scattercarpet"
           }
          ],
          "scattergeo": [
           {
            "marker": {
             "colorbar": {
              "outlinewidth": 0,
              "ticks": ""
             }
            },
            "type": "scattergeo"
           }
          ],
          "scattergl": [
           {
            "marker": {
             "colorbar": {
              "outlinewidth": 0,
              "ticks": ""
             }
            },
            "type": "scattergl"
           }
          ],
          "scattermap": [
           {
            "marker": {
             "colorbar": {
              "outlinewidth": 0,
              "ticks": ""
             }
            },
            "type": "scattermap"
           }
          ],
          "scattermapbox": [
           {
            "marker": {
             "colorbar": {
              "outlinewidth": 0,
              "ticks": ""
             }
            },
            "type": "scattermapbox"
           }
          ],
          "scatterpolar": [
           {
            "marker": {
             "colorbar": {
              "outlinewidth": 0,
              "ticks": ""
             }
            },
            "type": "scatterpolar"
           }
          ],
          "scatterpolargl": [
           {
            "marker": {
             "colorbar": {
              "outlinewidth": 0,
              "ticks": ""
             }
            },
            "type": "scatterpolargl"
           }
          ],
          "scatterternary": [
           {
            "marker": {
             "colorbar": {
              "outlinewidth": 0,
              "ticks": ""
             }
            },
            "type": "scatterternary"
           }
          ],
          "surface": [
           {
            "colorbar": {
             "outlinewidth": 0,
             "ticks": ""
            },
            "colorscale": [
             [
              0,
              "#0d0887"
             ],
             [
              0.1111111111111111,
              "#46039f"
             ],
             [
              0.2222222222222222,
              "#7201a8"
             ],
             [
              0.3333333333333333,
              "#9c179e"
             ],
             [
              0.4444444444444444,
              "#bd3786"
             ],
             [
              0.5555555555555556,
              "#d8576b"
             ],
             [
              0.6666666666666666,
              "#ed7953"
             ],
             [
              0.7777777777777778,
              "#fb9f3a"
             ],
             [
              0.8888888888888888,
              "#fdca26"
             ],
             [
              1,
              "#f0f921"
             ]
            ],
            "type": "surface"
           }
          ],
          "table": [
           {
            "cells": {
             "fill": {
              "color": "#EBF0F8"
             },
             "line": {
              "color": "white"
             }
            },
            "header": {
             "fill": {
              "color": "#C8D4E3"
             },
             "line": {
              "color": "white"
             }
            },
            "type": "table"
           }
          ]
         },
         "layout": {
          "annotationdefaults": {
           "arrowcolor": "#2a3f5f",
           "arrowhead": 0,
           "arrowwidth": 1
          },
          "autotypenumbers": "strict",
          "coloraxis": {
           "colorbar": {
            "outlinewidth": 0,
            "ticks": ""
           }
          },
          "colorscale": {
           "diverging": [
            [
             0,
             "#8e0152"
            ],
            [
             0.1,
             "#c51b7d"
            ],
            [
             0.2,
             "#de77ae"
            ],
            [
             0.3,
             "#f1b6da"
            ],
            [
             0.4,
             "#fde0ef"
            ],
            [
             0.5,
             "#f7f7f7"
            ],
            [
             0.6,
             "#e6f5d0"
            ],
            [
             0.7,
             "#b8e186"
            ],
            [
             0.8,
             "#7fbc41"
            ],
            [
             0.9,
             "#4d9221"
            ],
            [
             1,
             "#276419"
            ]
           ],
           "sequential": [
            [
             0,
             "#0d0887"
            ],
            [
             0.1111111111111111,
             "#46039f"
            ],
            [
             0.2222222222222222,
             "#7201a8"
            ],
            [
             0.3333333333333333,
             "#9c179e"
            ],
            [
             0.4444444444444444,
             "#bd3786"
            ],
            [
             0.5555555555555556,
             "#d8576b"
            ],
            [
             0.6666666666666666,
             "#ed7953"
            ],
            [
             0.7777777777777778,
             "#fb9f3a"
            ],
            [
             0.8888888888888888,
             "#fdca26"
            ],
            [
             1,
             "#f0f921"
            ]
           ],
           "sequentialminus": [
            [
             0,
             "#0d0887"
            ],
            [
             0.1111111111111111,
             "#46039f"
            ],
            [
             0.2222222222222222,
             "#7201a8"
            ],
            [
             0.3333333333333333,
             "#9c179e"
            ],
            [
             0.4444444444444444,
             "#bd3786"
            ],
            [
             0.5555555555555556,
             "#d8576b"
            ],
            [
             0.6666666666666666,
             "#ed7953"
            ],
            [
             0.7777777777777778,
             "#fb9f3a"
            ],
            [
             0.8888888888888888,
             "#fdca26"
            ],
            [
             1,
             "#f0f921"
            ]
           ]
          },
          "colorway": [
           "#636efa",
           "#EF553B",
           "#00cc96",
           "#ab63fa",
           "#FFA15A",
           "#19d3f3",
           "#FF6692",
           "#B6E880",
           "#FF97FF",
           "#FECB52"
          ],
          "font": {
           "color": "#2a3f5f"
          },
          "geo": {
           "bgcolor": "white",
           "lakecolor": "white",
           "landcolor": "#E5ECF6",
           "showlakes": true,
           "showland": true,
           "subunitcolor": "white"
          },
          "hoverlabel": {
           "align": "left"
          },
          "hovermode": "closest",
          "mapbox": {
           "style": "light"
          },
          "paper_bgcolor": "white",
          "plot_bgcolor": "#E5ECF6",
          "polar": {
           "angularaxis": {
            "gridcolor": "white",
            "linecolor": "white",
            "ticks": ""
           },
           "bgcolor": "#E5ECF6",
           "radialaxis": {
            "gridcolor": "white",
            "linecolor": "white",
            "ticks": ""
           }
          },
          "scene": {
           "xaxis": {
            "backgroundcolor": "#E5ECF6",
            "gridcolor": "white",
            "gridwidth": 2,
            "linecolor": "white",
            "showbackground": true,
            "ticks": "",
            "zerolinecolor": "white"
           },
           "yaxis": {
            "backgroundcolor": "#E5ECF6",
            "gridcolor": "white",
            "gridwidth": 2,
            "linecolor": "white",
            "showbackground": true,
            "ticks": "",
            "zerolinecolor": "white"
           },
           "zaxis": {
            "backgroundcolor": "#E5ECF6",
            "gridcolor": "white",
            "gridwidth": 2,
            "linecolor": "white",
            "showbackground": true,
            "ticks": "",
            "zerolinecolor": "white"
           }
          },
          "shapedefaults": {
           "line": {
            "color": "#2a3f5f"
           }
          },
          "ternary": {
           "aaxis": {
            "gridcolor": "white",
            "linecolor": "white",
            "ticks": ""
           },
           "baxis": {
            "gridcolor": "white",
            "linecolor": "white",
            "ticks": ""
           },
           "bgcolor": "#E5ECF6",
           "caxis": {
            "gridcolor": "white",
            "linecolor": "white",
            "ticks": ""
           }
          },
          "title": {
           "x": 0.05
          },
          "xaxis": {
           "automargin": true,
           "gridcolor": "white",
           "linecolor": "white",
           "ticks": "",
           "title": {
            "standoff": 15
           },
           "zerolinecolor": "white",
           "zerolinewidth": 2
          },
          "yaxis": {
           "automargin": true,
           "gridcolor": "white",
           "linecolor": "white",
           "ticks": "",
           "title": {
            "standoff": 15
           },
           "zerolinecolor": "white",
           "zerolinewidth": 2
          }
         }
        },
        "title": {
         "text": "Average Transaction Amount vs. Age"
        },
        "xaxis": {
         "anchor": "y",
         "domain": [
          0,
          1
         ],
         "title": {
          "text": "Age"
         }
        },
        "yaxis": {
         "anchor": "x",
         "domain": [
          0,
          1
         ],
         "title": {
          "text": "Average_Transaction_Amount"
         }
        }
       }
      }
     },
     "metadata": {},
     "output_type": "display_data"
    }
   ],
   "source": [
    "# Average Transaction Amount vs. Age\n",
    "fig_scatter_avg_amount_age = px.scatter(data, x='Age',\n",
    "                                        y='Average_Transaction_Amount',\n",
    "                                        color='Account_Type',\n",
    "                                        title='Average Transaction Amount vs. Age',\n",
    "                                        trendline='ols')\n",
    "fig_scatter_avg_amount_age.show()"
   ]
  },
  {
   "cell_type": "code",
   "execution_count": 10,
   "id": "84b78b03",
   "metadata": {},
   "outputs": [
    {
     "data": {
      "application/vnd.plotly.v1+json": {
       "config": {
        "plotlyServerURL": "https://plot.ly"
       },
       "data": [
        {
         "hovertemplate": "Day_of_Week=%{x}<br>count=%{y}<extra></extra>",
         "legendgroup": "",
         "marker": {
          "color": "#636efa",
          "pattern": {
           "shape": ""
          }
         },
         "name": "",
         "orientation": "v",
         "showlegend": false,
         "textposition": "auto",
         "type": "bar",
         "x": [
          "Friday",
          "Friday",
          "Tuesday",
          "Sunday",
          "Friday",
          "Thursday",
          "Tuesday",
          "Sunday",
          "Thursday",
          "Thursday",
          "Wednesday",
          "Monday",
          "Friday",
          "Monday",
          "Tuesday",
          "Saturday",
          "Wednesday",
          "Thursday",
          "Monday",
          "Wednesday",
          "Thursday",
          "Tuesday",
          "Wednesday",
          "Wednesday",
          "Friday",
          "Thursday",
          "Wednesday",
          "Thursday",
          "Thursday",
          "Wednesday",
          "Wednesday",
          "Wednesday",
          "Thursday",
          "Monday",
          "Saturday",
          "Monday",
          "Saturday",
          "Monday",
          "Sunday",
          "Tuesday",
          "Sunday",
          "Thursday",
          "Wednesday",
          "Thursday",
          "Friday",
          "Sunday",
          "Tuesday",
          "Friday",
          "Wednesday",
          "Saturday",
          "Sunday",
          "Friday",
          "Thursday",
          "Thursday",
          "Sunday",
          "Tuesday",
          "Friday",
          "Friday",
          "Sunday",
          "Monday",
          "Wednesday",
          "Tuesday",
          "Thursday",
          "Wednesday",
          "Saturday",
          "Friday",
          "Monday",
          "Sunday",
          "Saturday",
          "Thursday",
          "Wednesday",
          "Saturday",
          "Thursday",
          "Thursday",
          "Monday",
          "Saturday",
          "Monday",
          "Wednesday",
          "Sunday",
          "Wednesday",
          "Monday",
          "Saturday",
          "Monday",
          "Sunday",
          "Sunday",
          "Monday",
          "Friday",
          "Sunday",
          "Monday",
          "Friday",
          "Monday",
          "Tuesday",
          "Tuesday",
          "Saturday",
          "Wednesday",
          "Tuesday",
          "Sunday",
          "Tuesday",
          "Tuesday",
          "Saturday",
          "Sunday",
          "Monday",
          "Wednesday",
          "Tuesday",
          "Monday",
          "Monday",
          "Friday",
          "Wednesday",
          "Saturday",
          "Saturday",
          "Sunday",
          "Tuesday",
          "Friday",
          "Saturday",
          "Friday",
          "Friday",
          "Tuesday",
          "Thursday",
          "Sunday",
          "Thursday",
          "Sunday",
          "Saturday",
          "Thursday",
          "Tuesday",
          "Monday",
          "Monday",
          "Tuesday",
          "Friday",
          "Sunday",
          "Sunday",
          "Wednesday",
          "Saturday",
          "Sunday",
          "Monday",
          "Thursday",
          "Thursday",
          "Wednesday",
          "Wednesday",
          "Friday",
          "Thursday",
          "Thursday",
          "Saturday",
          "Wednesday",
          "Saturday",
          "Friday",
          "Monday",
          "Friday",
          "Sunday",
          "Monday",
          "Sunday",
          "Wednesday",
          "Sunday",
          "Sunday",
          "Thursday",
          "Saturday",
          "Tuesday",
          "Saturday",
          "Thursday",
          "Wednesday",
          "Sunday",
          "Tuesday",
          "Tuesday",
          "Saturday",
          "Wednesday",
          "Thursday",
          "Friday",
          "Tuesday",
          "Monday",
          "Saturday",
          "Tuesday",
          "Thursday",
          "Thursday",
          "Tuesday",
          "Monday",
          "Tuesday",
          "Monday",
          "Thursday",
          "Thursday",
          "Thursday",
          "Tuesday",
          "Wednesday",
          "Tuesday",
          "Wednesday",
          "Thursday",
          "Wednesday",
          "Wednesday",
          "Monday",
          "Friday",
          "Sunday",
          "Thursday",
          "Wednesday",
          "Thursday",
          "Friday",
          "Sunday",
          "Tuesday",
          "Thursday",
          "Tuesday",
          "Tuesday",
          "Tuesday",
          "Thursday",
          "Wednesday",
          "Sunday",
          "Tuesday",
          "Monday",
          "Monday",
          "Thursday",
          "Monday",
          "Sunday",
          "Tuesday",
          "Tuesday",
          "Sunday",
          "Saturday",
          "Monday",
          "Thursday",
          "Wednesday",
          "Monday",
          "Wednesday",
          "Monday",
          "Sunday",
          "Wednesday",
          "Friday",
          "Saturday",
          "Friday",
          "Friday",
          "Tuesday",
          "Tuesday",
          "Tuesday",
          "Monday",
          "Friday",
          "Wednesday",
          "Saturday",
          "Friday",
          "Tuesday",
          "Tuesday",
          "Thursday",
          "Sunday",
          "Sunday",
          "Saturday",
          "Saturday",
          "Wednesday",
          "Sunday",
          "Wednesday",
          "Sunday",
          "Tuesday",
          "Saturday",
          "Friday",
          "Sunday",
          "Saturday",
          "Tuesday",
          "Monday",
          "Monday",
          "Tuesday",
          "Saturday",
          "Sunday",
          "Wednesday",
          "Wednesday",
          "Monday",
          "Friday",
          "Sunday",
          "Wednesday",
          "Thursday",
          "Saturday",
          "Sunday",
          "Sunday",
          "Wednesday",
          "Monday",
          "Friday",
          "Saturday",
          "Wednesday",
          "Wednesday",
          "Friday",
          "Tuesday",
          "Tuesday",
          "Friday",
          "Tuesday",
          "Friday",
          "Saturday",
          "Monday",
          "Thursday",
          "Monday",
          "Wednesday",
          "Wednesday",
          "Thursday",
          "Thursday",
          "Wednesday",
          "Tuesday",
          "Monday",
          "Monday",
          "Monday",
          "Wednesday",
          "Wednesday",
          "Saturday",
          "Wednesday",
          "Friday",
          "Tuesday",
          "Tuesday",
          "Tuesday",
          "Tuesday",
          "Sunday",
          "Tuesday",
          "Thursday",
          "Wednesday",
          "Sunday",
          "Saturday",
          "Thursday",
          "Thursday",
          "Tuesday",
          "Monday",
          "Saturday",
          "Tuesday",
          "Saturday",
          "Wednesday",
          "Monday",
          "Sunday",
          "Monday",
          "Tuesday",
          "Saturday",
          "Wednesday",
          "Monday",
          "Sunday",
          "Saturday",
          "Thursday",
          "Wednesday",
          "Sunday",
          "Saturday",
          "Monday",
          "Friday",
          "Thursday",
          "Monday",
          "Saturday",
          "Friday",
          "Friday",
          "Wednesday",
          "Wednesday",
          "Tuesday",
          "Thursday",
          "Wednesday",
          "Friday",
          "Saturday",
          "Monday",
          "Saturday",
          "Sunday",
          "Sunday",
          "Sunday",
          "Tuesday",
          "Friday",
          "Friday",
          "Wednesday",
          "Tuesday",
          "Monday",
          "Friday",
          "Wednesday",
          "Sunday",
          "Friday",
          "Thursday",
          "Thursday",
          "Thursday",
          "Monday",
          "Tuesday",
          "Wednesday",
          "Thursday",
          "Wednesday",
          "Saturday",
          "Monday",
          "Tuesday",
          "Friday",
          "Saturday",
          "Friday",
          "Tuesday",
          "Tuesday",
          "Friday",
          "Wednesday",
          "Saturday",
          "Sunday",
          "Tuesday",
          "Monday",
          "Wednesday",
          "Saturday",
          "Sunday",
          "Monday",
          "Friday",
          "Sunday",
          "Friday",
          "Saturday",
          "Thursday",
          "Thursday",
          "Tuesday",
          "Sunday",
          "Tuesday",
          "Wednesday",
          "Friday",
          "Wednesday",
          "Saturday",
          "Sunday",
          "Thursday",
          "Sunday",
          "Thursday",
          "Saturday",
          "Thursday",
          "Saturday",
          "Saturday",
          "Tuesday",
          "Wednesday",
          "Friday",
          "Friday",
          "Monday",
          "Friday",
          "Wednesday",
          "Thursday",
          "Saturday",
          "Thursday",
          "Thursday",
          "Monday",
          "Wednesday",
          "Sunday",
          "Tuesday",
          "Monday",
          "Sunday",
          "Sunday",
          "Thursday",
          "Thursday",
          "Saturday",
          "Sunday",
          "Tuesday",
          "Monday",
          "Sunday",
          "Wednesday",
          "Tuesday",
          "Thursday",
          "Saturday",
          "Wednesday",
          "Saturday",
          "Sunday",
          "Wednesday",
          "Friday",
          "Tuesday",
          "Friday",
          "Tuesday",
          "Monday",
          "Tuesday",
          "Wednesday",
          "Saturday",
          "Wednesday",
          "Thursday",
          "Monday",
          "Saturday",
          "Sunday",
          "Tuesday",
          "Sunday",
          "Monday",
          "Thursday",
          "Wednesday",
          "Thursday",
          "Thursday",
          "Tuesday",
          "Thursday",
          "Friday",
          "Wednesday",
          "Monday",
          "Saturday",
          "Sunday",
          "Sunday",
          "Sunday",
          "Tuesday",
          "Wednesday",
          "Saturday",
          "Wednesday",
          "Friday",
          "Tuesday",
          "Sunday",
          "Sunday",
          "Monday",
          "Wednesday",
          "Tuesday",
          "Thursday",
          "Saturday",
          "Sunday",
          "Monday",
          "Friday",
          "Wednesday",
          "Sunday",
          "Friday",
          "Saturday",
          "Thursday",
          "Monday",
          "Friday",
          "Saturday",
          "Friday",
          "Saturday",
          "Tuesday",
          "Thursday",
          "Sunday",
          "Wednesday",
          "Sunday",
          "Tuesday",
          "Friday",
          "Wednesday",
          "Thursday",
          "Wednesday",
          "Monday",
          "Thursday",
          "Tuesday",
          "Wednesday",
          "Thursday",
          "Tuesday",
          "Friday",
          "Thursday",
          "Saturday",
          "Wednesday",
          "Saturday",
          "Thursday",
          "Tuesday",
          "Thursday",
          "Thursday",
          "Wednesday",
          "Tuesday",
          "Sunday",
          "Monday",
          "Sunday",
          "Monday",
          "Sunday",
          "Saturday",
          "Sunday",
          "Sunday",
          "Thursday",
          "Saturday",
          "Wednesday",
          "Friday",
          "Friday",
          "Sunday",
          "Sunday",
          "Thursday",
          "Saturday",
          "Friday",
          "Saturday",
          "Tuesday",
          "Saturday",
          "Tuesday",
          "Thursday",
          "Sunday",
          "Sunday",
          "Tuesday",
          "Wednesday",
          "Sunday",
          "Monday",
          "Monday",
          "Monday",
          "Wednesday",
          "Tuesday",
          "Friday",
          "Thursday",
          "Saturday",
          "Thursday",
          "Tuesday",
          "Monday",
          "Wednesday",
          "Monday",
          "Tuesday",
          "Saturday",
          "Thursday",
          "Friday",
          "Sunday",
          "Tuesday",
          "Sunday",
          "Wednesday",
          "Friday",
          "Sunday",
          "Tuesday",
          "Saturday",
          "Tuesday",
          "Monday",
          "Saturday",
          "Tuesday",
          "Wednesday",
          "Tuesday",
          "Saturday",
          "Tuesday",
          "Friday",
          "Tuesday",
          "Saturday",
          "Thursday",
          "Sunday",
          "Saturday",
          "Thursday",
          "Sunday",
          "Friday",
          "Saturday",
          "Tuesday",
          "Friday",
          "Monday",
          "Tuesday",
          "Saturday",
          "Friday",
          "Saturday",
          "Tuesday",
          "Thursday",
          "Sunday",
          "Friday",
          "Thursday",
          "Monday",
          "Wednesday",
          "Thursday",
          "Sunday",
          "Wednesday",
          "Friday",
          "Thursday",
          "Saturday",
          "Thursday",
          "Friday",
          "Friday",
          "Thursday",
          "Monday",
          "Tuesday",
          "Saturday",
          "Sunday",
          "Friday",
          "Wednesday",
          "Friday",
          "Friday",
          "Monday",
          "Wednesday",
          "Tuesday",
          "Wednesday",
          "Sunday",
          "Thursday",
          "Friday",
          "Saturday",
          "Friday",
          "Friday",
          "Wednesday",
          "Tuesday",
          "Sunday",
          "Wednesday",
          "Wednesday",
          "Sunday",
          "Saturday",
          "Saturday",
          "Saturday",
          "Thursday",
          "Monday",
          "Friday",
          "Friday",
          "Wednesday",
          "Monday",
          "Sunday",
          "Saturday",
          "Sunday",
          "Sunday",
          "Sunday",
          "Wednesday",
          "Wednesday",
          "Friday",
          "Saturday",
          "Friday",
          "Thursday",
          "Monday",
          "Tuesday",
          "Sunday",
          "Monday",
          "Sunday",
          "Friday",
          "Sunday",
          "Thursday",
          "Sunday",
          "Sunday",
          "Saturday",
          "Wednesday",
          "Thursday",
          "Wednesday",
          "Friday",
          "Friday",
          "Wednesday",
          "Wednesday",
          "Wednesday",
          "Friday",
          "Thursday",
          "Tuesday",
          "Saturday",
          "Monday",
          "Tuesday",
          "Monday",
          "Saturday",
          "Tuesday",
          "Friday",
          "Monday",
          "Saturday",
          "Friday",
          "Saturday",
          "Tuesday",
          "Saturday",
          "Saturday",
          "Tuesday",
          "Sunday",
          "Tuesday",
          "Wednesday",
          "Monday",
          "Tuesday",
          "Thursday",
          "Friday",
          "Sunday",
          "Friday",
          "Friday",
          "Wednesday",
          "Sunday",
          "Tuesday",
          "Tuesday",
          "Saturday",
          "Friday",
          "Tuesday",
          "Monday",
          "Monday",
          "Friday",
          "Monday",
          "Monday",
          "Tuesday",
          "Wednesday",
          "Tuesday",
          "Friday",
          "Sunday",
          "Monday",
          "Saturday",
          "Thursday",
          "Thursday",
          "Wednesday",
          "Thursday",
          "Thursday",
          "Friday",
          "Friday",
          "Saturday",
          "Monday",
          "Tuesday",
          "Tuesday",
          "Tuesday",
          "Friday",
          "Tuesday",
          "Friday",
          "Friday",
          "Thursday",
          "Tuesday",
          "Monday",
          "Tuesday",
          "Sunday",
          "Tuesday",
          "Monday",
          "Saturday",
          "Sunday",
          "Sunday",
          "Friday",
          "Sunday",
          "Saturday",
          "Friday",
          "Sunday",
          "Thursday",
          "Friday",
          "Monday",
          "Saturday",
          "Thursday",
          "Sunday",
          "Tuesday",
          "Wednesday",
          "Wednesday",
          "Sunday",
          "Tuesday",
          "Saturday",
          "Thursday",
          "Friday",
          "Saturday",
          "Friday",
          "Tuesday",
          "Monday",
          "Thursday",
          "Thursday",
          "Sunday",
          "Friday",
          "Friday",
          "Thursday",
          "Monday",
          "Wednesday",
          "Thursday",
          "Saturday",
          "Monday",
          "Thursday",
          "Saturday",
          "Thursday",
          "Sunday",
          "Thursday",
          "Saturday",
          "Friday",
          "Tuesday",
          "Saturday",
          "Wednesday",
          "Tuesday",
          "Friday",
          "Sunday",
          "Saturday",
          "Wednesday",
          "Thursday",
          "Monday",
          "Tuesday",
          "Sunday",
          "Friday",
          "Sunday",
          "Friday",
          "Thursday",
          "Saturday",
          "Thursday",
          "Friday",
          "Saturday",
          "Monday",
          "Wednesday",
          "Wednesday",
          "Friday",
          "Thursday",
          "Saturday",
          "Monday",
          "Wednesday",
          "Monday",
          "Thursday",
          "Tuesday",
          "Friday",
          "Monday",
          "Sunday",
          "Tuesday",
          "Tuesday",
          "Wednesday",
          "Saturday",
          "Thursday",
          "Tuesday",
          "Wednesday",
          "Friday",
          "Monday",
          "Tuesday",
          "Friday",
          "Tuesday",
          "Monday",
          "Wednesday",
          "Wednesday",
          "Thursday",
          "Friday",
          "Wednesday",
          "Tuesday",
          "Friday",
          "Tuesday",
          "Saturday",
          "Sunday",
          "Tuesday",
          "Sunday",
          "Wednesday",
          "Tuesday",
          "Thursday",
          "Monday",
          "Wednesday",
          "Sunday",
          "Thursday",
          "Sunday",
          "Friday",
          "Saturday",
          "Monday",
          "Saturday",
          "Sunday",
          "Wednesday",
          "Sunday",
          "Tuesday",
          "Friday",
          "Sunday",
          "Sunday",
          "Monday",
          "Monday",
          "Wednesday",
          "Tuesday",
          "Tuesday",
          "Wednesday",
          "Wednesday",
          "Tuesday",
          "Sunday",
          "Saturday",
          "Thursday",
          "Sunday",
          "Saturday",
          "Monday",
          "Wednesday",
          "Friday",
          "Sunday",
          "Tuesday",
          "Friday",
          "Friday",
          "Saturday",
          "Friday",
          "Monday",
          "Wednesday",
          "Sunday",
          "Thursday",
          "Thursday",
          "Saturday",
          "Thursday",
          "Thursday",
          "Monday",
          "Monday",
          "Sunday",
          "Saturday",
          "Friday",
          "Friday",
          "Monday",
          "Sunday",
          "Thursday",
          "Thursday",
          "Tuesday",
          "Thursday",
          "Tuesday",
          "Saturday",
          "Thursday",
          "Friday",
          "Wednesday",
          "Tuesday",
          "Tuesday",
          "Wednesday",
          "Thursday",
          "Tuesday",
          "Monday",
          "Monday",
          "Monday",
          "Wednesday",
          "Tuesday",
          "Friday",
          "Thursday",
          "Sunday",
          "Sunday",
          "Saturday",
          "Monday",
          "Thursday",
          "Friday",
          "Sunday",
          "Thursday",
          "Monday",
          "Thursday",
          "Thursday",
          "Tuesday",
          "Monday",
          "Wednesday",
          "Monday",
          "Tuesday",
          "Friday",
          "Wednesday",
          "Friday",
          "Wednesday",
          "Wednesday",
          "Sunday",
          "Wednesday",
          "Saturday",
          "Tuesday",
          "Monday",
          "Thursday",
          "Thursday",
          "Thursday",
          "Monday",
          "Friday",
          "Monday",
          "Sunday",
          "Wednesday",
          "Monday",
          "Sunday",
          "Monday",
          "Wednesday",
          "Wednesday",
          "Monday",
          "Sunday",
          "Sunday",
          "Wednesday",
          "Wednesday",
          "Thursday",
          "Saturday",
          "Friday",
          "Tuesday",
          "Friday",
          "Monday",
          "Monday",
          "Friday",
          "Friday",
          "Thursday",
          "Tuesday",
          "Sunday",
          "Wednesday",
          "Thursday",
          "Saturday",
          "Tuesday",
          "Friday",
          "Thursday",
          "Friday",
          "Sunday",
          "Wednesday",
          "Monday",
          "Thursday",
          "Tuesday",
          "Tuesday",
          "Saturday",
          "Monday",
          "Wednesday",
          "Friday",
          "Tuesday",
          "Sunday"
         ],
         "xaxis": "x",
         "y": {
          "bdata": "AQEBAQEBAQEBAQEBAQEBAQEBAQEBAQEBAQEBAQEBAQEBAQEBAQEBAQEBAQEBAQEBAQEBAQEBAQEBAQEBAQEBAQEBAQEBAQEBAQEBAQEBAQEBAQEBAQEBAQEBAQEBAQEBAQEBAQEBAQEBAQEBAQEBAQEBAQEBAQEBAQEBAQEBAQEBAQEBAQEBAQEBAQEBAQEBAQEBAQEBAQEBAQEBAQEBAQEBAQEBAQEBAQEBAQEBAQEBAQEBAQEBAQEBAQEBAQEBAQEBAQEBAQEBAQEBAQEBAQEBAQEBAQEBAQEBAQEBAQEBAQEBAQEBAQEBAQEBAQEBAQEBAQEBAQEBAQEBAQEBAQEBAQEBAQEBAQEBAQEBAQEBAQEBAQEBAQEBAQEBAQEBAQEBAQEBAQEBAQEBAQEBAQEBAQEBAQEBAQEBAQEBAQEBAQEBAQEBAQEBAQEBAQEBAQEBAQEBAQEBAQEBAQEBAQEBAQEBAQEBAQEBAQEBAQEBAQEBAQEBAQEBAQEBAQEBAQEBAQEBAQEBAQEBAQEBAQEBAQEBAQEBAQEBAQEBAQEBAQEBAQEBAQEBAQEBAQEBAQEBAQEBAQEBAQEBAQEBAQEBAQEBAQEBAQEBAQEBAQEBAQEBAQEBAQEBAQEBAQEBAQEBAQEBAQEBAQEBAQEBAQEBAQEBAQEBAQEBAQEBAQEBAQEBAQEBAQEBAQEBAQEBAQEBAQEBAQEBAQEBAQEBAQEBAQEBAQEBAQEBAQEBAQEBAQEBAQEBAQEBAQEBAQEBAQEBAQEBAQEBAQEBAQEBAQEBAQEBAQEBAQEBAQEBAQEBAQEBAQEBAQEBAQEBAQEBAQEBAQEBAQEBAQEBAQEBAQEBAQEBAQEBAQEBAQEBAQEBAQEBAQEBAQEBAQEBAQEBAQEBAQEBAQEBAQEBAQEBAQEBAQEBAQEBAQEBAQEBAQEBAQEBAQEBAQEBAQEBAQEBAQEBAQEBAQEBAQEBAQEBAQEBAQEBAQEBAQEBAQEBAQEBAQEBAQEBAQEBAQEBAQEBAQEBAQEBAQEBAQEBAQEBAQEBAQEBAQEBAQEBAQEBAQEBAQEBAQEBAQEBAQEBAQEBAQEBAQEBAQEBAQEBAQEBAQEBAQEBAQEBAQEBAQEBAQEBAQEBAQEBAQEBAQEBAQEBAQEBAQEBAQEBAQEBAQEBAQEBAQEBAQEBAQEBAQEBAQEBAQEBAQEBAQEBAQEBAQEBAQEBAQEBAQEBAQEBAQEBAQEBAQEBAQEBAQEBAQEBAQEBAQEBAQEBAQEBAQEBAQEBAQEBAQEBAQEBAQEBAQEBAQEBAQEBAQEBAQEBAQEBAQEBAQEBAQEBAQ==",
          "dtype": "i1"
         },
         "yaxis": "y"
        }
       ],
       "layout": {
        "barmode": "relative",
        "legend": {
         "tracegroupgap": 0
        },
        "template": {
         "data": {
          "bar": [
           {
            "error_x": {
             "color": "#2a3f5f"
            },
            "error_y": {
             "color": "#2a3f5f"
            },
            "marker": {
             "line": {
              "color": "#E5ECF6",
              "width": 0.5
             },
             "pattern": {
              "fillmode": "overlay",
              "size": 10,
              "solidity": 0.2
             }
            },
            "type": "bar"
           }
          ],
          "barpolar": [
           {
            "marker": {
             "line": {
              "color": "#E5ECF6",
              "width": 0.5
             },
             "pattern": {
              "fillmode": "overlay",
              "size": 10,
              "solidity": 0.2
             }
            },
            "type": "barpolar"
           }
          ],
          "carpet": [
           {
            "aaxis": {
             "endlinecolor": "#2a3f5f",
             "gridcolor": "white",
             "linecolor": "white",
             "minorgridcolor": "white",
             "startlinecolor": "#2a3f5f"
            },
            "baxis": {
             "endlinecolor": "#2a3f5f",
             "gridcolor": "white",
             "linecolor": "white",
             "minorgridcolor": "white",
             "startlinecolor": "#2a3f5f"
            },
            "type": "carpet"
           }
          ],
          "choropleth": [
           {
            "colorbar": {
             "outlinewidth": 0,
             "ticks": ""
            },
            "type": "choropleth"
           }
          ],
          "contour": [
           {
            "colorbar": {
             "outlinewidth": 0,
             "ticks": ""
            },
            "colorscale": [
             [
              0,
              "#0d0887"
             ],
             [
              0.1111111111111111,
              "#46039f"
             ],
             [
              0.2222222222222222,
              "#7201a8"
             ],
             [
              0.3333333333333333,
              "#9c179e"
             ],
             [
              0.4444444444444444,
              "#bd3786"
             ],
             [
              0.5555555555555556,
              "#d8576b"
             ],
             [
              0.6666666666666666,
              "#ed7953"
             ],
             [
              0.7777777777777778,
              "#fb9f3a"
             ],
             [
              0.8888888888888888,
              "#fdca26"
             ],
             [
              1,
              "#f0f921"
             ]
            ],
            "type": "contour"
           }
          ],
          "contourcarpet": [
           {
            "colorbar": {
             "outlinewidth": 0,
             "ticks": ""
            },
            "type": "contourcarpet"
           }
          ],
          "heatmap": [
           {
            "colorbar": {
             "outlinewidth": 0,
             "ticks": ""
            },
            "colorscale": [
             [
              0,
              "#0d0887"
             ],
             [
              0.1111111111111111,
              "#46039f"
             ],
             [
              0.2222222222222222,
              "#7201a8"
             ],
             [
              0.3333333333333333,
              "#9c179e"
             ],
             [
              0.4444444444444444,
              "#bd3786"
             ],
             [
              0.5555555555555556,
              "#d8576b"
             ],
             [
              0.6666666666666666,
              "#ed7953"
             ],
             [
              0.7777777777777778,
              "#fb9f3a"
             ],
             [
              0.8888888888888888,
              "#fdca26"
             ],
             [
              1,
              "#f0f921"
             ]
            ],
            "type": "heatmap"
           }
          ],
          "histogram": [
           {
            "marker": {
             "pattern": {
              "fillmode": "overlay",
              "size": 10,
              "solidity": 0.2
             }
            },
            "type": "histogram"
           }
          ],
          "histogram2d": [
           {
            "colorbar": {
             "outlinewidth": 0,
             "ticks": ""
            },
            "colorscale": [
             [
              0,
              "#0d0887"
             ],
             [
              0.1111111111111111,
              "#46039f"
             ],
             [
              0.2222222222222222,
              "#7201a8"
             ],
             [
              0.3333333333333333,
              "#9c179e"
             ],
             [
              0.4444444444444444,
              "#bd3786"
             ],
             [
              0.5555555555555556,
              "#d8576b"
             ],
             [
              0.6666666666666666,
              "#ed7953"
             ],
             [
              0.7777777777777778,
              "#fb9f3a"
             ],
             [
              0.8888888888888888,
              "#fdca26"
             ],
             [
              1,
              "#f0f921"
             ]
            ],
            "type": "histogram2d"
           }
          ],
          "histogram2dcontour": [
           {
            "colorbar": {
             "outlinewidth": 0,
             "ticks": ""
            },
            "colorscale": [
             [
              0,
              "#0d0887"
             ],
             [
              0.1111111111111111,
              "#46039f"
             ],
             [
              0.2222222222222222,
              "#7201a8"
             ],
             [
              0.3333333333333333,
              "#9c179e"
             ],
             [
              0.4444444444444444,
              "#bd3786"
             ],
             [
              0.5555555555555556,
              "#d8576b"
             ],
             [
              0.6666666666666666,
              "#ed7953"
             ],
             [
              0.7777777777777778,
              "#fb9f3a"
             ],
             [
              0.8888888888888888,
              "#fdca26"
             ],
             [
              1,
              "#f0f921"
             ]
            ],
            "type": "histogram2dcontour"
           }
          ],
          "mesh3d": [
           {
            "colorbar": {
             "outlinewidth": 0,
             "ticks": ""
            },
            "type": "mesh3d"
           }
          ],
          "parcoords": [
           {
            "line": {
             "colorbar": {
              "outlinewidth": 0,
              "ticks": ""
             }
            },
            "type": "parcoords"
           }
          ],
          "pie": [
           {
            "automargin": true,
            "type": "pie"
           }
          ],
          "scatter": [
           {
            "fillpattern": {
             "fillmode": "overlay",
             "size": 10,
             "solidity": 0.2
            },
            "type": "scatter"
           }
          ],
          "scatter3d": [
           {
            "line": {
             "colorbar": {
              "outlinewidth": 0,
              "ticks": ""
             }
            },
            "marker": {
             "colorbar": {
              "outlinewidth": 0,
              "ticks": ""
             }
            },
            "type": "scatter3d"
           }
          ],
          "scattercarpet": [
           {
            "marker": {
             "colorbar": {
              "outlinewidth": 0,
              "ticks": ""
             }
            },
            "type": "scattercarpet"
           }
          ],
          "scattergeo": [
           {
            "marker": {
             "colorbar": {
              "outlinewidth": 0,
              "ticks": ""
             }
            },
            "type": "scattergeo"
           }
          ],
          "scattergl": [
           {
            "marker": {
             "colorbar": {
              "outlinewidth": 0,
              "ticks": ""
             }
            },
            "type": "scattergl"
           }
          ],
          "scattermap": [
           {
            "marker": {
             "colorbar": {
              "outlinewidth": 0,
              "ticks": ""
             }
            },
            "type": "scattermap"
           }
          ],
          "scattermapbox": [
           {
            "marker": {
             "colorbar": {
              "outlinewidth": 0,
              "ticks": ""
             }
            },
            "type": "scattermapbox"
           }
          ],
          "scatterpolar": [
           {
            "marker": {
             "colorbar": {
              "outlinewidth": 0,
              "ticks": ""
             }
            },
            "type": "scatterpolar"
           }
          ],
          "scatterpolargl": [
           {
            "marker": {
             "colorbar": {
              "outlinewidth": 0,
              "ticks": ""
             }
            },
            "type": "scatterpolargl"
           }
          ],
          "scatterternary": [
           {
            "marker": {
             "colorbar": {
              "outlinewidth": 0,
              "ticks": ""
             }
            },
            "type": "scatterternary"
           }
          ],
          "surface": [
           {
            "colorbar": {
             "outlinewidth": 0,
             "ticks": ""
            },
            "colorscale": [
             [
              0,
              "#0d0887"
             ],
             [
              0.1111111111111111,
              "#46039f"
             ],
             [
              0.2222222222222222,
              "#7201a8"
             ],
             [
              0.3333333333333333,
              "#9c179e"
             ],
             [
              0.4444444444444444,
              "#bd3786"
             ],
             [
              0.5555555555555556,
              "#d8576b"
             ],
             [
              0.6666666666666666,
              "#ed7953"
             ],
             [
              0.7777777777777778,
              "#fb9f3a"
             ],
             [
              0.8888888888888888,
              "#fdca26"
             ],
             [
              1,
              "#f0f921"
             ]
            ],
            "type": "surface"
           }
          ],
          "table": [
           {
            "cells": {
             "fill": {
              "color": "#EBF0F8"
             },
             "line": {
              "color": "white"
             }
            },
            "header": {
             "fill": {
              "color": "#C8D4E3"
             },
             "line": {
              "color": "white"
             }
            },
            "type": "table"
           }
          ]
         },
         "layout": {
          "annotationdefaults": {
           "arrowcolor": "#2a3f5f",
           "arrowhead": 0,
           "arrowwidth": 1
          },
          "autotypenumbers": "strict",
          "coloraxis": {
           "colorbar": {
            "outlinewidth": 0,
            "ticks": ""
           }
          },
          "colorscale": {
           "diverging": [
            [
             0,
             "#8e0152"
            ],
            [
             0.1,
             "#c51b7d"
            ],
            [
             0.2,
             "#de77ae"
            ],
            [
             0.3,
             "#f1b6da"
            ],
            [
             0.4,
             "#fde0ef"
            ],
            [
             0.5,
             "#f7f7f7"
            ],
            [
             0.6,
             "#e6f5d0"
            ],
            [
             0.7,
             "#b8e186"
            ],
            [
             0.8,
             "#7fbc41"
            ],
            [
             0.9,
             "#4d9221"
            ],
            [
             1,
             "#276419"
            ]
           ],
           "sequential": [
            [
             0,
             "#0d0887"
            ],
            [
             0.1111111111111111,
             "#46039f"
            ],
            [
             0.2222222222222222,
             "#7201a8"
            ],
            [
             0.3333333333333333,
             "#9c179e"
            ],
            [
             0.4444444444444444,
             "#bd3786"
            ],
            [
             0.5555555555555556,
             "#d8576b"
            ],
            [
             0.6666666666666666,
             "#ed7953"
            ],
            [
             0.7777777777777778,
             "#fb9f3a"
            ],
            [
             0.8888888888888888,
             "#fdca26"
            ],
            [
             1,
             "#f0f921"
            ]
           ],
           "sequentialminus": [
            [
             0,
             "#0d0887"
            ],
            [
             0.1111111111111111,
             "#46039f"
            ],
            [
             0.2222222222222222,
             "#7201a8"
            ],
            [
             0.3333333333333333,
             "#9c179e"
            ],
            [
             0.4444444444444444,
             "#bd3786"
            ],
            [
             0.5555555555555556,
             "#d8576b"
            ],
            [
             0.6666666666666666,
             "#ed7953"
            ],
            [
             0.7777777777777778,
             "#fb9f3a"
            ],
            [
             0.8888888888888888,
             "#fdca26"
            ],
            [
             1,
             "#f0f921"
            ]
           ]
          },
          "colorway": [
           "#636efa",
           "#EF553B",
           "#00cc96",
           "#ab63fa",
           "#FFA15A",
           "#19d3f3",
           "#FF6692",
           "#B6E880",
           "#FF97FF",
           "#FECB52"
          ],
          "font": {
           "color": "#2a3f5f"
          },
          "geo": {
           "bgcolor": "white",
           "lakecolor": "white",
           "landcolor": "#E5ECF6",
           "showlakes": true,
           "showland": true,
           "subunitcolor": "white"
          },
          "hoverlabel": {
           "align": "left"
          },
          "hovermode": "closest",
          "mapbox": {
           "style": "light"
          },
          "paper_bgcolor": "white",
          "plot_bgcolor": "#E5ECF6",
          "polar": {
           "angularaxis": {
            "gridcolor": "white",
            "linecolor": "white",
            "ticks": ""
           },
           "bgcolor": "#E5ECF6",
           "radialaxis": {
            "gridcolor": "white",
            "linecolor": "white",
            "ticks": ""
           }
          },
          "scene": {
           "xaxis": {
            "backgroundcolor": "#E5ECF6",
            "gridcolor": "white",
            "gridwidth": 2,
            "linecolor": "white",
            "showbackground": true,
            "ticks": "",
            "zerolinecolor": "white"
           },
           "yaxis": {
            "backgroundcolor": "#E5ECF6",
            "gridcolor": "white",
            "gridwidth": 2,
            "linecolor": "white",
            "showbackground": true,
            "ticks": "",
            "zerolinecolor": "white"
           },
           "zaxis": {
            "backgroundcolor": "#E5ECF6",
            "gridcolor": "white",
            "gridwidth": 2,
            "linecolor": "white",
            "showbackground": true,
            "ticks": "",
            "zerolinecolor": "white"
           }
          },
          "shapedefaults": {
           "line": {
            "color": "#2a3f5f"
           }
          },
          "ternary": {
           "aaxis": {
            "gridcolor": "white",
            "linecolor": "white",
            "ticks": ""
           },
           "baxis": {
            "gridcolor": "white",
            "linecolor": "white",
            "ticks": ""
           },
           "bgcolor": "#E5ECF6",
           "caxis": {
            "gridcolor": "white",
            "linecolor": "white",
            "ticks": ""
           }
          },
          "title": {
           "x": 0.05
          },
          "xaxis": {
           "automargin": true,
           "gridcolor": "white",
           "linecolor": "white",
           "ticks": "",
           "title": {
            "standoff": 15
           },
           "zerolinecolor": "white",
           "zerolinewidth": 2
          },
          "yaxis": {
           "automargin": true,
           "gridcolor": "white",
           "linecolor": "white",
           "ticks": "",
           "title": {
            "standoff": 15
           },
           "zerolinecolor": "white",
           "zerolinewidth": 2
          }
         }
        },
        "title": {
         "text": "Count of Transactions by Day of the Week"
        },
        "xaxis": {
         "anchor": "y",
         "domain": [
          0,
          1
         ],
         "title": {
          "text": "Day_of_Week"
         }
        },
        "yaxis": {
         "anchor": "x",
         "domain": [
          0,
          1
         ],
         "title": {
          "text": "count"
         }
        }
       }
      }
     },
     "metadata": {},
     "output_type": "display_data"
    }
   ],
   "source": [
    "# Count of Transactions by Day of the Week\n",
    "fig_day_of_week = px.bar(data, x='Day_of_Week',\n",
    "                         title='Count of Transactions by Day of the Week')\n",
    "fig_day_of_week.show()"
   ]
  },
  {
   "cell_type": "code",
   "execution_count": 11,
   "id": "b30601bb",
   "metadata": {},
   "outputs": [
    {
     "name": "stderr",
     "output_type": "stream",
     "text": [
      "C:\\Users\\rajes\\AppData\\Local\\Temp\\ipykernel_26936\\2316172629.py:2: FutureWarning:\n",
      "\n",
      "The default value of numeric_only in DataFrame.corr is deprecated. In a future version, it will default to False. Select only valid columns or specify the value of numeric_only to silence this warning.\n",
      "\n"
     ]
    },
    {
     "data": {
      "application/vnd.plotly.v1+json": {
       "config": {
        "plotlyServerURL": "https://plot.ly"
       },
       "data": [
        {
         "coloraxis": "coloraxis",
         "hovertemplate": "x: %{x}<br>y: %{y}<br>color: %{z}<extra></extra>",
         "name": "0",
         "type": "heatmap",
         "x": [
          "Transaction_Amount",
          "Transaction_Volume",
          "Average_Transaction_Amount",
          "Frequency_of_Transactions",
          "Time_Since_Last_Transaction",
          "Age",
          "Income"
         ],
         "xaxis": "x",
         "y": [
          "Transaction_Amount",
          "Transaction_Volume",
          "Average_Transaction_Amount",
          "Frequency_of_Transactions",
          "Time_Since_Last_Transaction",
          "Age",
          "Income"
         ],
         "yaxis": "y",
         "z": {
          "bdata": "AAAAAAAA8D9807K7TeyvP7xy7kKB4oQ/gVbKNtiDpr+Ff1p32mibP6r1Rw+Jnpk/qRWHR+8ZmD9807K7TeyvPwAAAAAAAPA/JN1ZNwWZbT/cUjmEmc2ZPyZYGa2bjKY/V7YEM4lRnj8QJXy1R/iwP7xy7kKB4oQ/JN1ZNwWZbT8AAAAAAADwP6qK3n0Z76I/mRurlSgJmL9GmMCkkh+Svz8cOQheR6M/gVbKNtiDpr/cUjmEmc2ZP6qK3n0Z76I/AAAAAAAA8D9bWtTurr93v3bpAwNqUKG/wznIOfqkkr+Ff1p32mibPyZYGa2bjKY/mRurlSgJmL9bWtTurr93vwAAAAAAAPA/aX5QZ6BhkT/E32KBN8mrP6r1Rw+Jnpk/V7YEM4lRnj9GmMCkkh+Sv3bpAwNqUKG/aX5QZ6BhkT8AAAAAAADwPwZGsSyHs3i/qRWHR+8ZmD8QJXy1R/iwPz8cOQheR6M/wznIOfqkkr/E32KBN8mrPwZGsSyHs3i/AAAAAAAA8D8=",
          "dtype": "f8",
          "shape": "7, 7"
         }
        }
       ],
       "layout": {
        "coloraxis": {
         "colorscale": [
          [
           0,
           "#0d0887"
          ],
          [
           0.1111111111111111,
           "#46039f"
          ],
          [
           0.2222222222222222,
           "#7201a8"
          ],
          [
           0.3333333333333333,
           "#9c179e"
          ],
          [
           0.4444444444444444,
           "#bd3786"
          ],
          [
           0.5555555555555556,
           "#d8576b"
          ],
          [
           0.6666666666666666,
           "#ed7953"
          ],
          [
           0.7777777777777778,
           "#fb9f3a"
          ],
          [
           0.8888888888888888,
           "#fdca26"
          ],
          [
           1,
           "#f0f921"
          ]
         ]
        },
        "template": {
         "data": {
          "bar": [
           {
            "error_x": {
             "color": "#2a3f5f"
            },
            "error_y": {
             "color": "#2a3f5f"
            },
            "marker": {
             "line": {
              "color": "#E5ECF6",
              "width": 0.5
             },
             "pattern": {
              "fillmode": "overlay",
              "size": 10,
              "solidity": 0.2
             }
            },
            "type": "bar"
           }
          ],
          "barpolar": [
           {
            "marker": {
             "line": {
              "color": "#E5ECF6",
              "width": 0.5
             },
             "pattern": {
              "fillmode": "overlay",
              "size": 10,
              "solidity": 0.2
             }
            },
            "type": "barpolar"
           }
          ],
          "carpet": [
           {
            "aaxis": {
             "endlinecolor": "#2a3f5f",
             "gridcolor": "white",
             "linecolor": "white",
             "minorgridcolor": "white",
             "startlinecolor": "#2a3f5f"
            },
            "baxis": {
             "endlinecolor": "#2a3f5f",
             "gridcolor": "white",
             "linecolor": "white",
             "minorgridcolor": "white",
             "startlinecolor": "#2a3f5f"
            },
            "type": "carpet"
           }
          ],
          "choropleth": [
           {
            "colorbar": {
             "outlinewidth": 0,
             "ticks": ""
            },
            "type": "choropleth"
           }
          ],
          "contour": [
           {
            "colorbar": {
             "outlinewidth": 0,
             "ticks": ""
            },
            "colorscale": [
             [
              0,
              "#0d0887"
             ],
             [
              0.1111111111111111,
              "#46039f"
             ],
             [
              0.2222222222222222,
              "#7201a8"
             ],
             [
              0.3333333333333333,
              "#9c179e"
             ],
             [
              0.4444444444444444,
              "#bd3786"
             ],
             [
              0.5555555555555556,
              "#d8576b"
             ],
             [
              0.6666666666666666,
              "#ed7953"
             ],
             [
              0.7777777777777778,
              "#fb9f3a"
             ],
             [
              0.8888888888888888,
              "#fdca26"
             ],
             [
              1,
              "#f0f921"
             ]
            ],
            "type": "contour"
           }
          ],
          "contourcarpet": [
           {
            "colorbar": {
             "outlinewidth": 0,
             "ticks": ""
            },
            "type": "contourcarpet"
           }
          ],
          "heatmap": [
           {
            "colorbar": {
             "outlinewidth": 0,
             "ticks": ""
            },
            "colorscale": [
             [
              0,
              "#0d0887"
             ],
             [
              0.1111111111111111,
              "#46039f"
             ],
             [
              0.2222222222222222,
              "#7201a8"
             ],
             [
              0.3333333333333333,
              "#9c179e"
             ],
             [
              0.4444444444444444,
              "#bd3786"
             ],
             [
              0.5555555555555556,
              "#d8576b"
             ],
             [
              0.6666666666666666,
              "#ed7953"
             ],
             [
              0.7777777777777778,
              "#fb9f3a"
             ],
             [
              0.8888888888888888,
              "#fdca26"
             ],
             [
              1,
              "#f0f921"
             ]
            ],
            "type": "heatmap"
           }
          ],
          "histogram": [
           {
            "marker": {
             "pattern": {
              "fillmode": "overlay",
              "size": 10,
              "solidity": 0.2
             }
            },
            "type": "histogram"
           }
          ],
          "histogram2d": [
           {
            "colorbar": {
             "outlinewidth": 0,
             "ticks": ""
            },
            "colorscale": [
             [
              0,
              "#0d0887"
             ],
             [
              0.1111111111111111,
              "#46039f"
             ],
             [
              0.2222222222222222,
              "#7201a8"
             ],
             [
              0.3333333333333333,
              "#9c179e"
             ],
             [
              0.4444444444444444,
              "#bd3786"
             ],
             [
              0.5555555555555556,
              "#d8576b"
             ],
             [
              0.6666666666666666,
              "#ed7953"
             ],
             [
              0.7777777777777778,
              "#fb9f3a"
             ],
             [
              0.8888888888888888,
              "#fdca26"
             ],
             [
              1,
              "#f0f921"
             ]
            ],
            "type": "histogram2d"
           }
          ],
          "histogram2dcontour": [
           {
            "colorbar": {
             "outlinewidth": 0,
             "ticks": ""
            },
            "colorscale": [
             [
              0,
              "#0d0887"
             ],
             [
              0.1111111111111111,
              "#46039f"
             ],
             [
              0.2222222222222222,
              "#7201a8"
             ],
             [
              0.3333333333333333,
              "#9c179e"
             ],
             [
              0.4444444444444444,
              "#bd3786"
             ],
             [
              0.5555555555555556,
              "#d8576b"
             ],
             [
              0.6666666666666666,
              "#ed7953"
             ],
             [
              0.7777777777777778,
              "#fb9f3a"
             ],
             [
              0.8888888888888888,
              "#fdca26"
             ],
             [
              1,
              "#f0f921"
             ]
            ],
            "type": "histogram2dcontour"
           }
          ],
          "mesh3d": [
           {
            "colorbar": {
             "outlinewidth": 0,
             "ticks": ""
            },
            "type": "mesh3d"
           }
          ],
          "parcoords": [
           {
            "line": {
             "colorbar": {
              "outlinewidth": 0,
              "ticks": ""
             }
            },
            "type": "parcoords"
           }
          ],
          "pie": [
           {
            "automargin": true,
            "type": "pie"
           }
          ],
          "scatter": [
           {
            "fillpattern": {
             "fillmode": "overlay",
             "size": 10,
             "solidity": 0.2
            },
            "type": "scatter"
           }
          ],
          "scatter3d": [
           {
            "line": {
             "colorbar": {
              "outlinewidth": 0,
              "ticks": ""
             }
            },
            "marker": {
             "colorbar": {
              "outlinewidth": 0,
              "ticks": ""
             }
            },
            "type": "scatter3d"
           }
          ],
          "scattercarpet": [
           {
            "marker": {
             "colorbar": {
              "outlinewidth": 0,
              "ticks": ""
             }
            },
            "type": "scattercarpet"
           }
          ],
          "scattergeo": [
           {
            "marker": {
             "colorbar": {
              "outlinewidth": 0,
              "ticks": ""
             }
            },
            "type": "scattergeo"
           }
          ],
          "scattergl": [
           {
            "marker": {
             "colorbar": {
              "outlinewidth": 0,
              "ticks": ""
             }
            },
            "type": "scattergl"
           }
          ],
          "scattermap": [
           {
            "marker": {
             "colorbar": {
              "outlinewidth": 0,
              "ticks": ""
             }
            },
            "type": "scattermap"
           }
          ],
          "scattermapbox": [
           {
            "marker": {
             "colorbar": {
              "outlinewidth": 0,
              "ticks": ""
             }
            },
            "type": "scattermapbox"
           }
          ],
          "scatterpolar": [
           {
            "marker": {
             "colorbar": {
              "outlinewidth": 0,
              "ticks": ""
             }
            },
            "type": "scatterpolar"
           }
          ],
          "scatterpolargl": [
           {
            "marker": {
             "colorbar": {
              "outlinewidth": 0,
              "ticks": ""
             }
            },
            "type": "scatterpolargl"
           }
          ],
          "scatterternary": [
           {
            "marker": {
             "colorbar": {
              "outlinewidth": 0,
              "ticks": ""
             }
            },
            "type": "scatterternary"
           }
          ],
          "surface": [
           {
            "colorbar": {
             "outlinewidth": 0,
             "ticks": ""
            },
            "colorscale": [
             [
              0,
              "#0d0887"
             ],
             [
              0.1111111111111111,
              "#46039f"
             ],
             [
              0.2222222222222222,
              "#7201a8"
             ],
             [
              0.3333333333333333,
              "#9c179e"
             ],
             [
              0.4444444444444444,
              "#bd3786"
             ],
             [
              0.5555555555555556,
              "#d8576b"
             ],
             [
              0.6666666666666666,
              "#ed7953"
             ],
             [
              0.7777777777777778,
              "#fb9f3a"
             ],
             [
              0.8888888888888888,
              "#fdca26"
             ],
             [
              1,
              "#f0f921"
             ]
            ],
            "type": "surface"
           }
          ],
          "table": [
           {
            "cells": {
             "fill": {
              "color": "#EBF0F8"
             },
             "line": {
              "color": "white"
             }
            },
            "header": {
             "fill": {
              "color": "#C8D4E3"
             },
             "line": {
              "color": "white"
             }
            },
            "type": "table"
           }
          ]
         },
         "layout": {
          "annotationdefaults": {
           "arrowcolor": "#2a3f5f",
           "arrowhead": 0,
           "arrowwidth": 1
          },
          "autotypenumbers": "strict",
          "coloraxis": {
           "colorbar": {
            "outlinewidth": 0,
            "ticks": ""
           }
          },
          "colorscale": {
           "diverging": [
            [
             0,
             "#8e0152"
            ],
            [
             0.1,
             "#c51b7d"
            ],
            [
             0.2,
             "#de77ae"
            ],
            [
             0.3,
             "#f1b6da"
            ],
            [
             0.4,
             "#fde0ef"
            ],
            [
             0.5,
             "#f7f7f7"
            ],
            [
             0.6,
             "#e6f5d0"
            ],
            [
             0.7,
             "#b8e186"
            ],
            [
             0.8,
             "#7fbc41"
            ],
            [
             0.9,
             "#4d9221"
            ],
            [
             1,
             "#276419"
            ]
           ],
           "sequential": [
            [
             0,
             "#0d0887"
            ],
            [
             0.1111111111111111,
             "#46039f"
            ],
            [
             0.2222222222222222,
             "#7201a8"
            ],
            [
             0.3333333333333333,
             "#9c179e"
            ],
            [
             0.4444444444444444,
             "#bd3786"
            ],
            [
             0.5555555555555556,
             "#d8576b"
            ],
            [
             0.6666666666666666,
             "#ed7953"
            ],
            [
             0.7777777777777778,
             "#fb9f3a"
            ],
            [
             0.8888888888888888,
             "#fdca26"
            ],
            [
             1,
             "#f0f921"
            ]
           ],
           "sequentialminus": [
            [
             0,
             "#0d0887"
            ],
            [
             0.1111111111111111,
             "#46039f"
            ],
            [
             0.2222222222222222,
             "#7201a8"
            ],
            [
             0.3333333333333333,
             "#9c179e"
            ],
            [
             0.4444444444444444,
             "#bd3786"
            ],
            [
             0.5555555555555556,
             "#d8576b"
            ],
            [
             0.6666666666666666,
             "#ed7953"
            ],
            [
             0.7777777777777778,
             "#fb9f3a"
            ],
            [
             0.8888888888888888,
             "#fdca26"
            ],
            [
             1,
             "#f0f921"
            ]
           ]
          },
          "colorway": [
           "#636efa",
           "#EF553B",
           "#00cc96",
           "#ab63fa",
           "#FFA15A",
           "#19d3f3",
           "#FF6692",
           "#B6E880",
           "#FF97FF",
           "#FECB52"
          ],
          "font": {
           "color": "#2a3f5f"
          },
          "geo": {
           "bgcolor": "white",
           "lakecolor": "white",
           "landcolor": "#E5ECF6",
           "showlakes": true,
           "showland": true,
           "subunitcolor": "white"
          },
          "hoverlabel": {
           "align": "left"
          },
          "hovermode": "closest",
          "mapbox": {
           "style": "light"
          },
          "paper_bgcolor": "white",
          "plot_bgcolor": "#E5ECF6",
          "polar": {
           "angularaxis": {
            "gridcolor": "white",
            "linecolor": "white",
            "ticks": ""
           },
           "bgcolor": "#E5ECF6",
           "radialaxis": {
            "gridcolor": "white",
            "linecolor": "white",
            "ticks": ""
           }
          },
          "scene": {
           "xaxis": {
            "backgroundcolor": "#E5ECF6",
            "gridcolor": "white",
            "gridwidth": 2,
            "linecolor": "white",
            "showbackground": true,
            "ticks": "",
            "zerolinecolor": "white"
           },
           "yaxis": {
            "backgroundcolor": "#E5ECF6",
            "gridcolor": "white",
            "gridwidth": 2,
            "linecolor": "white",
            "showbackground": true,
            "ticks": "",
            "zerolinecolor": "white"
           },
           "zaxis": {
            "backgroundcolor": "#E5ECF6",
            "gridcolor": "white",
            "gridwidth": 2,
            "linecolor": "white",
            "showbackground": true,
            "ticks": "",
            "zerolinecolor": "white"
           }
          },
          "shapedefaults": {
           "line": {
            "color": "#2a3f5f"
           }
          },
          "ternary": {
           "aaxis": {
            "gridcolor": "white",
            "linecolor": "white",
            "ticks": ""
           },
           "baxis": {
            "gridcolor": "white",
            "linecolor": "white",
            "ticks": ""
           },
           "bgcolor": "#E5ECF6",
           "caxis": {
            "gridcolor": "white",
            "linecolor": "white",
            "ticks": ""
           }
          },
          "title": {
           "x": 0.05
          },
          "xaxis": {
           "automargin": true,
           "gridcolor": "white",
           "linecolor": "white",
           "ticks": "",
           "title": {
            "standoff": 15
           },
           "zerolinecolor": "white",
           "zerolinewidth": 2
          },
          "yaxis": {
           "automargin": true,
           "gridcolor": "white",
           "linecolor": "white",
           "ticks": "",
           "title": {
            "standoff": 15
           },
           "zerolinecolor": "white",
           "zerolinewidth": 2
          }
         }
        },
        "title": {
         "text": "Correlation Heatmap"
        },
        "xaxis": {
         "anchor": "y",
         "constrain": "domain",
         "domain": [
          0,
          1
         ],
         "scaleanchor": "y"
        },
        "yaxis": {
         "anchor": "x",
         "autorange": "reversed",
         "constrain": "domain",
         "domain": [
          0,
          1
         ]
        }
       }
      }
     },
     "metadata": {},
     "output_type": "display_data"
    }
   ],
   "source": [
    "# Correlation Heatmap\n",
    "correlation_matrix = data.corr()\n",
    "fig_corr_heatmap = px.imshow(correlation_matrix,\n",
    "                             title='Correlation Heatmap')\n",
    "fig_corr_heatmap.show()"
   ]
  },
  {
   "cell_type": "code",
   "execution_count": 12,
   "id": "fe6f5f73",
   "metadata": {},
   "outputs": [
    {
     "data": {
      "application/vnd.plotly.v1+json": {
       "config": {
        "plotlyServerURL": "https://plot.ly"
       },
       "data": [
        {
         "hovertemplate": "Is_Anomaly=False<br>Transaction_Amount=%{x}<br>Average_Transaction_Amount=%{y}<extra></extra>",
         "legendgroup": "False",
         "marker": {
          "color": "#636efa",
          "symbol": "circle"
         },
         "mode": "markers",
         "name": "False",
         "orientation": "v",
         "showlegend": true,
         "type": "scatter",
         "x": {
          "bdata": "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",
          "dtype": "f8"
         },
         "xaxis": "x",
         "y": {
          "bdata": "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",
          "dtype": "f8"
         },
         "yaxis": "y"
        },
        {
         "hovertemplate": "Is_Anomaly=True<br>Transaction_Amount=%{x}<br>Average_Transaction_Amount=%{y}<extra></extra>",
         "legendgroup": "True",
         "marker": {
          "color": "#EF553B",
          "symbol": "circle"
         },
         "mode": "markers",
         "name": "True",
         "orientation": "v",
         "showlegend": true,
         "type": "scatter",
         "x": {
          "bdata": "IKiDzMejpUB3cAUVMuSlQNBqPoSiLahAWYoMekaBpUAu6te2/oCnQJ7Ax0735KdABeFyaOslqUCtL4JMiAGnQNrJQk4CaKdAQuWWVYC8qEDg1D0Q6zapQJamcL6IOqdATbHVczEzpUDW6EDNx6+mQHJ6SYXNgqdAdOo/10otqECZVQQb2UioQNMX9o/LTadA7Vwi0e4jpkAzsKvkniaoQA==",
          "dtype": "f8"
         },
         "xaxis": "x",
         "y": {
          "bdata": "31C5VBd6j0AFre7+zBuPQEGj1bdlo45APZafT1Hnj0B1jhg3wJSPQD54z7trxI5AErJ5mcgsjkAN3eJtcfaOQPlYqdXh4Y5ANPP/OHyfj0BOATPEVqCPQKBPdWm4ZY5Ao5bk1HYJkECzV6K7ncSQQB+pKIJgTo9AxZbB+aPajkCfICRL41GPQGDY0PAJY45AEx8rEQY9kEAVAIfu2+aOQA==",
          "dtype": "f8"
         },
         "yaxis": "y"
        }
       ],
       "layout": {
        "legend": {
         "title": {
          "text": "Is_Anomaly"
         },
         "tracegroupgap": 0
        },
        "template": {
         "data": {
          "bar": [
           {
            "error_x": {
             "color": "#2a3f5f"
            },
            "error_y": {
             "color": "#2a3f5f"
            },
            "marker": {
             "line": {
              "color": "#E5ECF6",
              "width": 0.5
             },
             "pattern": {
              "fillmode": "overlay",
              "size": 10,
              "solidity": 0.2
             }
            },
            "type": "bar"
           }
          ],
          "barpolar": [
           {
            "marker": {
             "line": {
              "color": "#E5ECF6",
              "width": 0.5
             },
             "pattern": {
              "fillmode": "overlay",
              "size": 10,
              "solidity": 0.2
             }
            },
            "type": "barpolar"
           }
          ],
          "carpet": [
           {
            "aaxis": {
             "endlinecolor": "#2a3f5f",
             "gridcolor": "white",
             "linecolor": "white",
             "minorgridcolor": "white",
             "startlinecolor": "#2a3f5f"
            },
            "baxis": {
             "endlinecolor": "#2a3f5f",
             "gridcolor": "white",
             "linecolor": "white",
             "minorgridcolor": "white",
             "startlinecolor": "#2a3f5f"
            },
            "type": "carpet"
           }
          ],
          "choropleth": [
           {
            "colorbar": {
             "outlinewidth": 0,
             "ticks": ""
            },
            "type": "choropleth"
           }
          ],
          "contour": [
           {
            "colorbar": {
             "outlinewidth": 0,
             "ticks": ""
            },
            "colorscale": [
             [
              0,
              "#0d0887"
             ],
             [
              0.1111111111111111,
              "#46039f"
             ],
             [
              0.2222222222222222,
              "#7201a8"
             ],
             [
              0.3333333333333333,
              "#9c179e"
             ],
             [
              0.4444444444444444,
              "#bd3786"
             ],
             [
              0.5555555555555556,
              "#d8576b"
             ],
             [
              0.6666666666666666,
              "#ed7953"
             ],
             [
              0.7777777777777778,
              "#fb9f3a"
             ],
             [
              0.8888888888888888,
              "#fdca26"
             ],
             [
              1,
              "#f0f921"
             ]
            ],
            "type": "contour"
           }
          ],
          "contourcarpet": [
           {
            "colorbar": {
             "outlinewidth": 0,
             "ticks": ""
            },
            "type": "contourcarpet"
           }
          ],
          "heatmap": [
           {
            "colorbar": {
             "outlinewidth": 0,
             "ticks": ""
            },
            "colorscale": [
             [
              0,
              "#0d0887"
             ],
             [
              0.1111111111111111,
              "#46039f"
             ],
             [
              0.2222222222222222,
              "#7201a8"
             ],
             [
              0.3333333333333333,
              "#9c179e"
             ],
             [
              0.4444444444444444,
              "#bd3786"
             ],
             [
              0.5555555555555556,
              "#d8576b"
             ],
             [
              0.6666666666666666,
              "#ed7953"
             ],
             [
              0.7777777777777778,
              "#fb9f3a"
             ],
             [
              0.8888888888888888,
              "#fdca26"
             ],
             [
              1,
              "#f0f921"
             ]
            ],
            "type": "heatmap"
           }
          ],
          "histogram": [
           {
            "marker": {
             "pattern": {
              "fillmode": "overlay",
              "size": 10,
              "solidity": 0.2
             }
            },
            "type": "histogram"
           }
          ],
          "histogram2d": [
           {
            "colorbar": {
             "outlinewidth": 0,
             "ticks": ""
            },
            "colorscale": [
             [
              0,
              "#0d0887"
             ],
             [
              0.1111111111111111,
              "#46039f"
             ],
             [
              0.2222222222222222,
              "#7201a8"
             ],
             [
              0.3333333333333333,
              "#9c179e"
             ],
             [
              0.4444444444444444,
              "#bd3786"
             ],
             [
              0.5555555555555556,
              "#d8576b"
             ],
             [
              0.6666666666666666,
              "#ed7953"
             ],
             [
              0.7777777777777778,
              "#fb9f3a"
             ],
             [
              0.8888888888888888,
              "#fdca26"
             ],
             [
              1,
              "#f0f921"
             ]
            ],
            "type": "histogram2d"
           }
          ],
          "histogram2dcontour": [
           {
            "colorbar": {
             "outlinewidth": 0,
             "ticks": ""
            },
            "colorscale": [
             [
              0,
              "#0d0887"
             ],
             [
              0.1111111111111111,
              "#46039f"
             ],
             [
              0.2222222222222222,
              "#7201a8"
             ],
             [
              0.3333333333333333,
              "#9c179e"
             ],
             [
              0.4444444444444444,
              "#bd3786"
             ],
             [
              0.5555555555555556,
              "#d8576b"
             ],
             [
              0.6666666666666666,
              "#ed7953"
             ],
             [
              0.7777777777777778,
              "#fb9f3a"
             ],
             [
              0.8888888888888888,
              "#fdca26"
             ],
             [
              1,
              "#f0f921"
             ]
            ],
            "type": "histogram2dcontour"
           }
          ],
          "mesh3d": [
           {
            "colorbar": {
             "outlinewidth": 0,
             "ticks": ""
            },
            "type": "mesh3d"
           }
          ],
          "parcoords": [
           {
            "line": {
             "colorbar": {
              "outlinewidth": 0,
              "ticks": ""
             }
            },
            "type": "parcoords"
           }
          ],
          "pie": [
           {
            "automargin": true,
            "type": "pie"
           }
          ],
          "scatter": [
           {
            "fillpattern": {
             "fillmode": "overlay",
             "size": 10,
             "solidity": 0.2
            },
            "type": "scatter"
           }
          ],
          "scatter3d": [
           {
            "line": {
             "colorbar": {
              "outlinewidth": 0,
              "ticks": ""
             }
            },
            "marker": {
             "colorbar": {
              "outlinewidth": 0,
              "ticks": ""
             }
            },
            "type": "scatter3d"
           }
          ],
          "scattercarpet": [
           {
            "marker": {
             "colorbar": {
              "outlinewidth": 0,
              "ticks": ""
             }
            },
            "type": "scattercarpet"
           }
          ],
          "scattergeo": [
           {
            "marker": {
             "colorbar": {
              "outlinewidth": 0,
              "ticks": ""
             }
            },
            "type": "scattergeo"
           }
          ],
          "scattergl": [
           {
            "marker": {
             "colorbar": {
              "outlinewidth": 0,
              "ticks": ""
             }
            },
            "type": "scattergl"
           }
          ],
          "scattermap": [
           {
            "marker": {
             "colorbar": {
              "outlinewidth": 0,
              "ticks": ""
             }
            },
            "type": "scattermap"
           }
          ],
          "scattermapbox": [
           {
            "marker": {
             "colorbar": {
              "outlinewidth": 0,
              "ticks": ""
             }
            },
            "type": "scattermapbox"
           }
          ],
          "scatterpolar": [
           {
            "marker": {
             "colorbar": {
              "outlinewidth": 0,
              "ticks": ""
             }
            },
            "type": "scatterpolar"
           }
          ],
          "scatterpolargl": [
           {
            "marker": {
             "colorbar": {
              "outlinewidth": 0,
              "ticks": ""
             }
            },
            "type": "scatterpolargl"
           }
          ],
          "scatterternary": [
           {
            "marker": {
             "colorbar": {
              "outlinewidth": 0,
              "ticks": ""
             }
            },
            "type": "scatterternary"
           }
          ],
          "surface": [
           {
            "colorbar": {
             "outlinewidth": 0,
             "ticks": ""
            },
            "colorscale": [
             [
              0,
              "#0d0887"
             ],
             [
              0.1111111111111111,
              "#46039f"
             ],
             [
              0.2222222222222222,
              "#7201a8"
             ],
             [
              0.3333333333333333,
              "#9c179e"
             ],
             [
              0.4444444444444444,
              "#bd3786"
             ],
             [
              0.5555555555555556,
              "#d8576b"
             ],
             [
              0.6666666666666666,
              "#ed7953"
             ],
             [
              0.7777777777777778,
              "#fb9f3a"
             ],
             [
              0.8888888888888888,
              "#fdca26"
             ],
             [
              1,
              "#f0f921"
             ]
            ],
            "type": "surface"
           }
          ],
          "table": [
           {
            "cells": {
             "fill": {
              "color": "#EBF0F8"
             },
             "line": {
              "color": "white"
             }
            },
            "header": {
             "fill": {
              "color": "#C8D4E3"
             },
             "line": {
              "color": "white"
             }
            },
            "type": "table"
           }
          ]
         },
         "layout": {
          "annotationdefaults": {
           "arrowcolor": "#2a3f5f",
           "arrowhead": 0,
           "arrowwidth": 1
          },
          "autotypenumbers": "strict",
          "coloraxis": {
           "colorbar": {
            "outlinewidth": 0,
            "ticks": ""
           }
          },
          "colorscale": {
           "diverging": [
            [
             0,
             "#8e0152"
            ],
            [
             0.1,
             "#c51b7d"
            ],
            [
             0.2,
             "#de77ae"
            ],
            [
             0.3,
             "#f1b6da"
            ],
            [
             0.4,
             "#fde0ef"
            ],
            [
             0.5,
             "#f7f7f7"
            ],
            [
             0.6,
             "#e6f5d0"
            ],
            [
             0.7,
             "#b8e186"
            ],
            [
             0.8,
             "#7fbc41"
            ],
            [
             0.9,
             "#4d9221"
            ],
            [
             1,
             "#276419"
            ]
           ],
           "sequential": [
            [
             0,
             "#0d0887"
            ],
            [
             0.1111111111111111,
             "#46039f"
            ],
            [
             0.2222222222222222,
             "#7201a8"
            ],
            [
             0.3333333333333333,
             "#9c179e"
            ],
            [
             0.4444444444444444,
             "#bd3786"
            ],
            [
             0.5555555555555556,
             "#d8576b"
            ],
            [
             0.6666666666666666,
             "#ed7953"
            ],
            [
             0.7777777777777778,
             "#fb9f3a"
            ],
            [
             0.8888888888888888,
             "#fdca26"
            ],
            [
             1,
             "#f0f921"
            ]
           ],
           "sequentialminus": [
            [
             0,
             "#0d0887"
            ],
            [
             0.1111111111111111,
             "#46039f"
            ],
            [
             0.2222222222222222,
             "#7201a8"
            ],
            [
             0.3333333333333333,
             "#9c179e"
            ],
            [
             0.4444444444444444,
             "#bd3786"
            ],
            [
             0.5555555555555556,
             "#d8576b"
            ],
            [
             0.6666666666666666,
             "#ed7953"
            ],
            [
             0.7777777777777778,
             "#fb9f3a"
            ],
            [
             0.8888888888888888,
             "#fdca26"
            ],
            [
             1,
             "#f0f921"
            ]
           ]
          },
          "colorway": [
           "#636efa",
           "#EF553B",
           "#00cc96",
           "#ab63fa",
           "#FFA15A",
           "#19d3f3",
           "#FF6692",
           "#B6E880",
           "#FF97FF",
           "#FECB52"
          ],
          "font": {
           "color": "#2a3f5f"
          },
          "geo": {
           "bgcolor": "white",
           "lakecolor": "white",
           "landcolor": "#E5ECF6",
           "showlakes": true,
           "showland": true,
           "subunitcolor": "white"
          },
          "hoverlabel": {
           "align": "left"
          },
          "hovermode": "closest",
          "mapbox": {
           "style": "light"
          },
          "paper_bgcolor": "white",
          "plot_bgcolor": "#E5ECF6",
          "polar": {
           "angularaxis": {
            "gridcolor": "white",
            "linecolor": "white",
            "ticks": ""
           },
           "bgcolor": "#E5ECF6",
           "radialaxis": {
            "gridcolor": "white",
            "linecolor": "white",
            "ticks": ""
           }
          },
          "scene": {
           "xaxis": {
            "backgroundcolor": "#E5ECF6",
            "gridcolor": "white",
            "gridwidth": 2,
            "linecolor": "white",
            "showbackground": true,
            "ticks": "",
            "zerolinecolor": "white"
           },
           "yaxis": {
            "backgroundcolor": "#E5ECF6",
            "gridcolor": "white",
            "gridwidth": 2,
            "linecolor": "white",
            "showbackground": true,
            "ticks": "",
            "zerolinecolor": "white"
           },
           "zaxis": {
            "backgroundcolor": "#E5ECF6",
            "gridcolor": "white",
            "gridwidth": 2,
            "linecolor": "white",
            "showbackground": true,
            "ticks": "",
            "zerolinecolor": "white"
           }
          },
          "shapedefaults": {
           "line": {
            "color": "#2a3f5f"
           }
          },
          "ternary": {
           "aaxis": {
            "gridcolor": "white",
            "linecolor": "white",
            "ticks": ""
           },
           "baxis": {
            "gridcolor": "white",
            "linecolor": "white",
            "ticks": ""
           },
           "bgcolor": "#E5ECF6",
           "caxis": {
            "gridcolor": "white",
            "linecolor": "white",
            "ticks": ""
           }
          },
          "title": {
           "x": 0.05
          },
          "xaxis": {
           "automargin": true,
           "gridcolor": "white",
           "linecolor": "white",
           "ticks": "",
           "title": {
            "standoff": 15
           },
           "zerolinecolor": "white",
           "zerolinewidth": 2
          },
          "yaxis": {
           "automargin": true,
           "gridcolor": "white",
           "linecolor": "white",
           "ticks": "",
           "title": {
            "standoff": 15
           },
           "zerolinecolor": "white",
           "zerolinewidth": 2
          }
         }
        },
        "title": {
         "text": "Anomalies in Transaction Amount"
        },
        "xaxis": {
         "anchor": "y",
         "domain": [
          0,
          1
         ],
         "title": {
          "text": "Transaction_Amount"
         }
        },
        "yaxis": {
         "anchor": "x",
         "domain": [
          0,
          1
         ],
         "title": {
          "text": "Average_Transaction_Amount"
         }
        }
       }
      }
     },
     "metadata": {},
     "output_type": "display_data"
    }
   ],
   "source": [
    "# Calculate mean and standard deviation of Transaction Amount\n",
    "mean_amount = data['Transaction_Amount'].mean()\n",
    "std_amount = data['Transaction_Amount'].std()\n",
    "\n",
    "# Define the anomaly threshold (2 standard deviations from the mean)\n",
    "anomaly_threshold = mean_amount + 2 * std_amount\n",
    "\n",
    "# Flag anomalies\n",
    "data['Is_Anomaly'] = data['Transaction_Amount'] > anomaly_threshold\n",
    "\n",
    "# Scatter plot of Transaction Amount with anomalies highlighted\n",
    "fig_anomalies = px.scatter(data, x='Transaction_Amount', y='Average_Transaction_Amount',\n",
    "                           color='Is_Anomaly', title='Anomalies in Transaction Amount')\n",
    "fig_anomalies.update_traces(marker=dict(size=12), \n",
    "                            selector=dict(mode='markers', marker_size=1))\n",
    "fig_anomalies.show()"
   ]
  },
  {
   "cell_type": "code",
   "execution_count": 13,
   "id": "70ef757f",
   "metadata": {},
   "outputs": [
    {
     "name": "stdout",
     "output_type": "stream",
     "text": [
      "0.02\n"
     ]
    }
   ],
   "source": [
    "# Calculate the number of anomalies\n",
    "num_anomalies = data['Is_Anomaly'].sum()\n",
    "\n",
    "# Calculate the total number of instances in the dataset\n",
    "total_instances = data.shape[0]\n",
    "\n",
    "# Calculate the ratio of anomalies\n",
    "anomaly_ratio = num_anomalies / total_instances\n",
    "print(anomaly_ratio)"
   ]
  },
  {
   "cell_type": "code",
   "execution_count": 14,
   "id": "4b0b21ec",
   "metadata": {},
   "outputs": [
    {
     "name": "stderr",
     "output_type": "stream",
     "text": [
      "c:\\Users\\rajes\\AppData\\Local\\Programs\\Python\\Python310\\lib\\site-packages\\sklearn\\base.py:439: UserWarning:\n",
      "\n",
      "X does not have valid feature names, but IsolationForest was fitted with feature names\n",
      "\n"
     ]
    },
    {
     "data": {
      "text/html": [
       "<style>#sk-container-id-1 {color: black;background-color: white;}#sk-container-id-1 pre{padding: 0;}#sk-container-id-1 div.sk-toggleable {background-color: white;}#sk-container-id-1 label.sk-toggleable__label {cursor: pointer;display: block;width: 100%;margin-bottom: 0;padding: 0.3em;box-sizing: border-box;text-align: center;}#sk-container-id-1 label.sk-toggleable__label-arrow:before {content: \"▸\";float: left;margin-right: 0.25em;color: #696969;}#sk-container-id-1 label.sk-toggleable__label-arrow:hover:before {color: black;}#sk-container-id-1 div.sk-estimator:hover label.sk-toggleable__label-arrow:before {color: black;}#sk-container-id-1 div.sk-toggleable__content {max-height: 0;max-width: 0;overflow: hidden;text-align: left;background-color: #f0f8ff;}#sk-container-id-1 div.sk-toggleable__content pre {margin: 0.2em;color: black;border-radius: 0.25em;background-color: #f0f8ff;}#sk-container-id-1 input.sk-toggleable__control:checked~div.sk-toggleable__content {max-height: 200px;max-width: 100%;overflow: auto;}#sk-container-id-1 input.sk-toggleable__control:checked~label.sk-toggleable__label-arrow:before {content: \"▾\";}#sk-container-id-1 div.sk-estimator input.sk-toggleable__control:checked~label.sk-toggleable__label {background-color: #d4ebff;}#sk-container-id-1 div.sk-label input.sk-toggleable__control:checked~label.sk-toggleable__label {background-color: #d4ebff;}#sk-container-id-1 input.sk-hidden--visually {border: 0;clip: rect(1px 1px 1px 1px);clip: rect(1px, 1px, 1px, 1px);height: 1px;margin: -1px;overflow: hidden;padding: 0;position: absolute;width: 1px;}#sk-container-id-1 div.sk-estimator {font-family: monospace;background-color: #f0f8ff;border: 1px dotted black;border-radius: 0.25em;box-sizing: border-box;margin-bottom: 0.5em;}#sk-container-id-1 div.sk-estimator:hover {background-color: #d4ebff;}#sk-container-id-1 div.sk-parallel-item::after {content: \"\";width: 100%;border-bottom: 1px solid gray;flex-grow: 1;}#sk-container-id-1 div.sk-label:hover label.sk-toggleable__label {background-color: #d4ebff;}#sk-container-id-1 div.sk-serial::before {content: \"\";position: absolute;border-left: 1px solid gray;box-sizing: border-box;top: 0;bottom: 0;left: 50%;z-index: 0;}#sk-container-id-1 div.sk-serial {display: flex;flex-direction: column;align-items: center;background-color: white;padding-right: 0.2em;padding-left: 0.2em;position: relative;}#sk-container-id-1 div.sk-item {position: relative;z-index: 1;}#sk-container-id-1 div.sk-parallel {display: flex;align-items: stretch;justify-content: center;background-color: white;position: relative;}#sk-container-id-1 div.sk-item::before, #sk-container-id-1 div.sk-parallel-item::before {content: \"\";position: absolute;border-left: 1px solid gray;box-sizing: border-box;top: 0;bottom: 0;left: 50%;z-index: -1;}#sk-container-id-1 div.sk-parallel-item {display: flex;flex-direction: column;z-index: 1;position: relative;background-color: white;}#sk-container-id-1 div.sk-parallel-item:first-child::after {align-self: flex-end;width: 50%;}#sk-container-id-1 div.sk-parallel-item:last-child::after {align-self: flex-start;width: 50%;}#sk-container-id-1 div.sk-parallel-item:only-child::after {width: 0;}#sk-container-id-1 div.sk-dashed-wrapped {border: 1px dashed gray;margin: 0 0.4em 0.5em 0.4em;box-sizing: border-box;padding-bottom: 0.4em;background-color: white;}#sk-container-id-1 div.sk-label label {font-family: monospace;font-weight: bold;display: inline-block;line-height: 1.2em;}#sk-container-id-1 div.sk-label-container {text-align: center;}#sk-container-id-1 div.sk-container {/* jupyter's `normalize.less` sets `[hidden] { display: none; }` but bootstrap.min.css set `[hidden] { display: none !important; }` so we also need the `!important` here to be able to override the default hidden behavior on the sphinx rendered scikit-learn.org. See: https://github.com/scikit-learn/scikit-learn/issues/21755 */display: inline-block !important;position: relative;}#sk-container-id-1 div.sk-text-repr-fallback {display: none;}</style><div id=\"sk-container-id-1\" class=\"sk-top-container\"><div class=\"sk-text-repr-fallback\"><pre>IsolationForest(contamination=0.02, random_state=42)</pre><b>In a Jupyter environment, please rerun this cell to show the HTML representation or trust the notebook. <br />On GitHub, the HTML representation is unable to render, please try loading this page with nbviewer.org.</b></div><div class=\"sk-container\" hidden><div class=\"sk-item\"><div class=\"sk-estimator sk-toggleable\"><input class=\"sk-toggleable__control sk-hidden--visually\" id=\"sk-estimator-id-1\" type=\"checkbox\" checked><label for=\"sk-estimator-id-1\" class=\"sk-toggleable__label sk-toggleable__label-arrow\">IsolationForest</label><div class=\"sk-toggleable__content\"><pre>IsolationForest(contamination=0.02, random_state=42)</pre></div></div></div></div></div>"
      ],
      "text/plain": [
       "IsolationForest(contamination=0.02, random_state=42)"
      ]
     },
     "execution_count": 14,
     "metadata": {},
     "output_type": "execute_result"
    }
   ],
   "source": [
    "relevant_features = ['Transaction_Amount',\n",
    "                     'Average_Transaction_Amount',\n",
    "                     'Frequency_of_Transactions']\n",
    "\n",
    "# Split data into features (X) and target variable (y)\n",
    "X = data[relevant_features]\n",
    "y = data['Is_Anomaly']\n",
    "\n",
    "# Split data into train and test sets\n",
    "X_train, X_test, y_train, y_test = train_test_split(X, y, test_size=0.2, random_state=42)\n",
    "\n",
    "# Train the Isolation Forest model\n",
    "model = IsolationForest(contamination=0.02, random_state=42)\n",
    "model.fit(X_train)"
   ]
  },
  {
   "cell_type": "code",
   "execution_count": 15,
   "id": "f5dfdd5e",
   "metadata": {},
   "outputs": [
    {
     "name": "stdout",
     "output_type": "stream",
     "text": [
      "              precision    recall  f1-score   support\n",
      "\n",
      "      Normal       1.00      1.00      1.00       196\n",
      "     Anomaly       1.00      1.00      1.00         4\n",
      "\n",
      "    accuracy                           1.00       200\n",
      "   macro avg       1.00      1.00      1.00       200\n",
      "weighted avg       1.00      1.00      1.00       200\n",
      "\n"
     ]
    }
   ],
   "source": [
    "# Predict anomalies on the test set\n",
    "y_pred = model.predict(X_test)\n",
    "\n",
    "# Convert predictions to binary values (0: normal, 1: anomaly)\n",
    "y_pred_binary = [1 if pred == -1 else 0 for pred in y_pred]\n",
    "\n",
    "# Evaluate the model's performance\n",
    "report = classification_report(y_test, y_pred_binary, target_names=['Normal', 'Anomaly'])\n",
    "print(report)"
   ]
  },
  {
   "cell_type": "code",
   "execution_count": 16,
   "id": "b82c6a49",
   "metadata": {},
   "outputs": [
    {
     "name": "stdout",
     "output_type": "stream",
     "text": [
      "Anomaly detected: This transaction is flagged as an anomaly.\n"
     ]
    }
   ],
   "source": [
    "# Relevant features used during training\n",
    "relevant_features = ['Transaction_Amount', 'Average_Transaction_Amount', 'Frequency_of_Transactions']\n",
    "\n",
    "# Get user inputs for features\n",
    "user_inputs = []\n",
    "for feature in relevant_features:\n",
    "    user_input = float(input(f\"Enter the value for '{feature}': \"))\n",
    "    user_inputs.append(user_input)\n",
    "\n",
    "# Create a DataFrame from user inputs\n",
    "user_df = pd.DataFrame([user_inputs], columns=relevant_features)\n",
    "\n",
    "# Predict anomalies using the model\n",
    "user_anomaly_pred = model.predict(user_df)\n",
    "\n",
    "# Convert the prediction to binary value (0: normal, 1: anomaly)\n",
    "user_anomaly_pred_binary = 1 if user_anomaly_pred == -1 else 0\n",
    "\n",
    "if user_anomaly_pred_binary == 1:\n",
    "    print(\"Anomaly detected: This transaction is flagged as an anomaly.\")\n",
    "else:\n",
    "    print(\"No anomaly detected: This transaction is normal.\")"
   ]
  }
 ],
 "metadata": {
  "kernelspec": {
   "display_name": "Python 3",
   "language": "python",
   "name": "python3"
  },
  "language_info": {
   "codemirror_mode": {
    "name": "ipython",
    "version": 3
   },
   "file_extension": ".py",
   "mimetype": "text/x-python",
   "name": "python",
   "nbconvert_exporter": "python",
   "pygments_lexer": "ipython3",
   "version": "3.10.0"
  },
  "widgets": {
   "application/vnd.jupyter.widget-state+json": {
    "state": {},
    "version_major": 2,
    "version_minor": 0
   }
  }
 },
 "nbformat": 4,
 "nbformat_minor": 5
}
